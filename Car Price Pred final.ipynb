{
 "cells": [
  {
   "cell_type": "markdown",
   "metadata": {},
   "source": [
    "# Car price prediction modeling\n",
    "\n",
    "---\n",
    "\n",
    "## Patrick Parsa\n",
    "\n",
    "### Dataset scraped from local car website"
   ]
  },
  {
   "cell_type": "markdown",
   "metadata": {},
   "source": [
    "**Importing packages and initial data overview**"
   ]
  },
  {
   "cell_type": "code",
   "execution_count": 2,
   "metadata": {},
   "outputs": [],
   "source": [
    "import numpy as np \n",
    "import pandas as pd \n",
    "import matplotlib.pyplot as plt\n",
    "import seaborn as sns\n",
    "import matplotlib\n",
    "\n",
    "import warnings\n",
    "warnings.filterwarnings('ignore')"
   ]
  },
  {
   "cell_type": "code",
   "execution_count": 3,
   "metadata": {},
   "outputs": [
    {
     "data": {
      "text/html": [
       "<div>\n",
       "<style scoped>\n",
       "    .dataframe tbody tr th:only-of-type {\n",
       "        vertical-align: middle;\n",
       "    }\n",
       "\n",
       "    .dataframe tbody tr th {\n",
       "        vertical-align: top;\n",
       "    }\n",
       "\n",
       "    .dataframe thead th {\n",
       "        text-align: right;\n",
       "    }\n",
       "</style>\n",
       "<table border=\"1\" class=\"dataframe\">\n",
       "  <thead>\n",
       "    <tr style=\"text-align: right;\">\n",
       "      <th></th>\n",
       "      <th>Name</th>\n",
       "      <th>Mileage</th>\n",
       "      <th>Price</th>\n",
       "    </tr>\n",
       "  </thead>\n",
       "  <tbody>\n",
       "    <tr>\n",
       "      <th>0</th>\n",
       "      <td>2012 Lexus LS 460 Base</td>\n",
       "      <td>56,638 mi.</td>\n",
       "      <td>$29,995</td>\n",
       "    </tr>\n",
       "    <tr>\n",
       "      <th>1</th>\n",
       "      <td>2019 Chrysler Pacifica Limited</td>\n",
       "      <td>87,998 mi.</td>\n",
       "      <td>$33,900</td>\n",
       "    </tr>\n",
       "    <tr>\n",
       "      <th>2</th>\n",
       "      <td>2019 Subaru Outback 3.6R Limited</td>\n",
       "      <td>50,450 mi.</td>\n",
       "      <td>$32,553</td>\n",
       "    </tr>\n",
       "    <tr>\n",
       "      <th>3</th>\n",
       "      <td>2021 Subaru WRX Premium</td>\n",
       "      <td>1,552 mi.</td>\n",
       "      <td>$37,538</td>\n",
       "    </tr>\n",
       "    <tr>\n",
       "      <th>4</th>\n",
       "      <td>2020 Subaru Outback Premium</td>\n",
       "      <td>14,809 mi.</td>\n",
       "      <td>$26,200</td>\n",
       "    </tr>\n",
       "  </tbody>\n",
       "</table>\n",
       "</div>"
      ],
      "text/plain": [
       "                               Name     Mileage    Price\n",
       "0            2012 Lexus LS 460 Base  56,638 mi.  $29,995\n",
       "1    2019 Chrysler Pacifica Limited  87,998 mi.  $33,900\n",
       "2  2019 Subaru Outback 3.6R Limited  50,450 mi.  $32,553\n",
       "3           2021 Subaru WRX Premium   1,552 mi.  $37,538\n",
       "4       2020 Subaru Outback Premium  14,809 mi.  $26,200"
      ]
     },
     "execution_count": 3,
     "metadata": {},
     "output_type": "execute_result"
    }
   ],
   "source": [
    "df = pd.read_excel('/Users/patrick/Documents/ML model deployment/multi_page_car.xlsx')\n",
    "df.head()"
   ]
  },
  {
   "cell_type": "code",
   "execution_count": 4,
   "metadata": {},
   "outputs": [
    {
     "data": {
      "text/plain": [
       "(9982, 3)"
      ]
     },
     "execution_count": 4,
     "metadata": {},
     "output_type": "execute_result"
    }
   ],
   "source": [
    "df.shape"
   ]
  },
  {
   "cell_type": "code",
   "execution_count": 5,
   "metadata": {},
   "outputs": [
    {
     "name": "stdout",
     "output_type": "stream",
     "text": [
      "<class 'pandas.core.frame.DataFrame'>\n",
      "RangeIndex: 9982 entries, 0 to 9981\n",
      "Data columns (total 3 columns):\n",
      " #   Column   Non-Null Count  Dtype \n",
      "---  ------   --------------  ----- \n",
      " 0   Name     9982 non-null   object\n",
      " 1   Mileage  9982 non-null   object\n",
      " 2   Price    9982 non-null   object\n",
      "dtypes: object(3)\n",
      "memory usage: 234.1+ KB\n"
     ]
    }
   ],
   "source": [
    "df.info()"
   ]
  },
  {
   "cell_type": "code",
   "execution_count": 6,
   "metadata": {},
   "outputs": [
    {
     "data": {
      "text/plain": [
       "Name       object\n",
       "Mileage    object\n",
       "Price      object\n",
       "dtype: object"
      ]
     },
     "execution_count": 6,
     "metadata": {},
     "output_type": "execute_result"
    }
   ],
   "source": [
    "df.dtypes"
   ]
  },
  {
   "cell_type": "code",
   "execution_count": 7,
   "metadata": {},
   "outputs": [
    {
     "data": {
      "text/plain": [
       "Name       0\n",
       "Mileage    0\n",
       "Price      0\n",
       "dtype: int64"
      ]
     },
     "execution_count": 7,
     "metadata": {},
     "output_type": "execute_result"
    }
   ],
   "source": [
    "#missing values\n",
    "df.isna().sum()"
   ]
  },
  {
   "cell_type": "markdown",
   "metadata": {},
   "source": [
    "## Data cleaning and feature engineering\n",
    "---"
   ]
  },
  {
   "cell_type": "markdown",
   "metadata": {},
   "source": [
    "### Steps:\n",
    "\n",
    "* Filtering to only contain desired models (Civic, Accord, Corolla, Camry)\n",
    "* Filtering out fully-optional models\n",
    "* Converting Price column into integer and removing dollar sign and comma\n",
    "* Converting mileage into integer and removing 'mi' and comma\n",
    "* Creating new column 'Year'\n",
    "* Converting 'Year' into an integer and then using that to create new column 'Age'"
   ]
  },
  {
   "cell_type": "markdown",
   "metadata": {},
   "source": [
    "Creating new column: **Year**"
   ]
  },
  {
   "cell_type": "code",
   "execution_count": 8,
   "metadata": {},
   "outputs": [],
   "source": [
    "df['Year'] = df.Name.str[:4]"
   ]
  },
  {
   "cell_type": "code",
   "execution_count": 9,
   "metadata": {},
   "outputs": [
    {
     "data": {
      "text/html": [
       "<div>\n",
       "<style scoped>\n",
       "    .dataframe tbody tr th:only-of-type {\n",
       "        vertical-align: middle;\n",
       "    }\n",
       "\n",
       "    .dataframe tbody tr th {\n",
       "        vertical-align: top;\n",
       "    }\n",
       "\n",
       "    .dataframe thead th {\n",
       "        text-align: right;\n",
       "    }\n",
       "</style>\n",
       "<table border=\"1\" class=\"dataframe\">\n",
       "  <thead>\n",
       "    <tr style=\"text-align: right;\">\n",
       "      <th></th>\n",
       "      <th>Name</th>\n",
       "      <th>Mileage</th>\n",
       "      <th>Price</th>\n",
       "      <th>Year</th>\n",
       "    </tr>\n",
       "  </thead>\n",
       "  <tbody>\n",
       "    <tr>\n",
       "      <th>0</th>\n",
       "      <td>2012 Lexus LS 460 Base</td>\n",
       "      <td>56,638 mi.</td>\n",
       "      <td>$29,995</td>\n",
       "      <td>2012</td>\n",
       "    </tr>\n",
       "    <tr>\n",
       "      <th>1</th>\n",
       "      <td>2019 Chrysler Pacifica Limited</td>\n",
       "      <td>87,998 mi.</td>\n",
       "      <td>$33,900</td>\n",
       "      <td>2019</td>\n",
       "    </tr>\n",
       "    <tr>\n",
       "      <th>2</th>\n",
       "      <td>2019 Subaru Outback 3.6R Limited</td>\n",
       "      <td>50,450 mi.</td>\n",
       "      <td>$32,553</td>\n",
       "      <td>2019</td>\n",
       "    </tr>\n",
       "    <tr>\n",
       "      <th>3</th>\n",
       "      <td>2021 Subaru WRX Premium</td>\n",
       "      <td>1,552 mi.</td>\n",
       "      <td>$37,538</td>\n",
       "      <td>2021</td>\n",
       "    </tr>\n",
       "    <tr>\n",
       "      <th>4</th>\n",
       "      <td>2020 Subaru Outback Premium</td>\n",
       "      <td>14,809 mi.</td>\n",
       "      <td>$26,200</td>\n",
       "      <td>2020</td>\n",
       "    </tr>\n",
       "  </tbody>\n",
       "</table>\n",
       "</div>"
      ],
      "text/plain": [
       "                               Name     Mileage    Price  Year\n",
       "0            2012 Lexus LS 460 Base  56,638 mi.  $29,995  2012\n",
       "1    2019 Chrysler Pacifica Limited  87,998 mi.  $33,900  2019\n",
       "2  2019 Subaru Outback 3.6R Limited  50,450 mi.  $32,553  2019\n",
       "3           2021 Subaru WRX Premium   1,552 mi.  $37,538  2021\n",
       "4       2020 Subaru Outback Premium  14,809 mi.  $26,200  2020"
      ]
     },
     "execution_count": 9,
     "metadata": {},
     "output_type": "execute_result"
    }
   ],
   "source": [
    "df.head()"
   ]
  },
  {
   "cell_type": "markdown",
   "metadata": {},
   "source": [
    "Creating new column: **Age**"
   ]
  },
  {
   "cell_type": "code",
   "execution_count": 10,
   "metadata": {},
   "outputs": [],
   "source": [
    "df['Year'] = df['Year'].astype(str).astype(int)"
   ]
  },
  {
   "cell_type": "code",
   "execution_count": 11,
   "metadata": {},
   "outputs": [
    {
     "data": {
      "text/plain": [
       "Name       object\n",
       "Mileage    object\n",
       "Price      object\n",
       "Year        int64\n",
       "dtype: object"
      ]
     },
     "execution_count": 11,
     "metadata": {},
     "output_type": "execute_result"
    }
   ],
   "source": [
    "df.dtypes"
   ]
  },
  {
   "cell_type": "code",
   "execution_count": 12,
   "metadata": {},
   "outputs": [
    {
     "data": {
      "text/html": [
       "<div>\n",
       "<style scoped>\n",
       "    .dataframe tbody tr th:only-of-type {\n",
       "        vertical-align: middle;\n",
       "    }\n",
       "\n",
       "    .dataframe tbody tr th {\n",
       "        vertical-align: top;\n",
       "    }\n",
       "\n",
       "    .dataframe thead th {\n",
       "        text-align: right;\n",
       "    }\n",
       "</style>\n",
       "<table border=\"1\" class=\"dataframe\">\n",
       "  <thead>\n",
       "    <tr style=\"text-align: right;\">\n",
       "      <th></th>\n",
       "      <th>Name</th>\n",
       "      <th>Mileage</th>\n",
       "      <th>Price</th>\n",
       "      <th>Year</th>\n",
       "      <th>Age</th>\n",
       "    </tr>\n",
       "  </thead>\n",
       "  <tbody>\n",
       "    <tr>\n",
       "      <th>0</th>\n",
       "      <td>2012 Lexus LS 460 Base</td>\n",
       "      <td>56,638 mi.</td>\n",
       "      <td>$29,995</td>\n",
       "      <td>2012</td>\n",
       "      <td>10</td>\n",
       "    </tr>\n",
       "    <tr>\n",
       "      <th>1</th>\n",
       "      <td>2019 Chrysler Pacifica Limited</td>\n",
       "      <td>87,998 mi.</td>\n",
       "      <td>$33,900</td>\n",
       "      <td>2019</td>\n",
       "      <td>3</td>\n",
       "    </tr>\n",
       "    <tr>\n",
       "      <th>2</th>\n",
       "      <td>2019 Subaru Outback 3.6R Limited</td>\n",
       "      <td>50,450 mi.</td>\n",
       "      <td>$32,553</td>\n",
       "      <td>2019</td>\n",
       "      <td>3</td>\n",
       "    </tr>\n",
       "    <tr>\n",
       "      <th>3</th>\n",
       "      <td>2021 Subaru WRX Premium</td>\n",
       "      <td>1,552 mi.</td>\n",
       "      <td>$37,538</td>\n",
       "      <td>2021</td>\n",
       "      <td>1</td>\n",
       "    </tr>\n",
       "    <tr>\n",
       "      <th>4</th>\n",
       "      <td>2020 Subaru Outback Premium</td>\n",
       "      <td>14,809 mi.</td>\n",
       "      <td>$26,200</td>\n",
       "      <td>2020</td>\n",
       "      <td>2</td>\n",
       "    </tr>\n",
       "    <tr>\n",
       "      <th>...</th>\n",
       "      <td>...</td>\n",
       "      <td>...</td>\n",
       "      <td>...</td>\n",
       "      <td>...</td>\n",
       "      <td>...</td>\n",
       "    </tr>\n",
       "    <tr>\n",
       "      <th>9977</th>\n",
       "      <td>2018 Ford Explorer Platinum</td>\n",
       "      <td>24,553 mi.</td>\n",
       "      <td>$39,990</td>\n",
       "      <td>2018</td>\n",
       "      <td>4</td>\n",
       "    </tr>\n",
       "    <tr>\n",
       "      <th>9978</th>\n",
       "      <td>2018 INFINITI Q60 3.0t LUXE</td>\n",
       "      <td>65,182 mi.</td>\n",
       "      <td>$32,989</td>\n",
       "      <td>2018</td>\n",
       "      <td>4</td>\n",
       "    </tr>\n",
       "    <tr>\n",
       "      <th>9979</th>\n",
       "      <td>2020 Honda CR-V EX</td>\n",
       "      <td>33,808 mi.</td>\n",
       "      <td>$30,499</td>\n",
       "      <td>2020</td>\n",
       "      <td>2</td>\n",
       "    </tr>\n",
       "    <tr>\n",
       "      <th>9980</th>\n",
       "      <td>2013 Chevrolet Camaro 2LS</td>\n",
       "      <td>63,296 mi.</td>\n",
       "      <td>$17,899</td>\n",
       "      <td>2013</td>\n",
       "      <td>9</td>\n",
       "    </tr>\n",
       "    <tr>\n",
       "      <th>9981</th>\n",
       "      <td>2012 Jeep Grand Cherokee Overland</td>\n",
       "      <td>97,619 mi.</td>\n",
       "      <td>$20,975</td>\n",
       "      <td>2012</td>\n",
       "      <td>10</td>\n",
       "    </tr>\n",
       "  </tbody>\n",
       "</table>\n",
       "<p>9982 rows × 5 columns</p>\n",
       "</div>"
      ],
      "text/plain": [
       "                                   Name     Mileage    Price  Year  Age\n",
       "0                2012 Lexus LS 460 Base  56,638 mi.  $29,995  2012   10\n",
       "1        2019 Chrysler Pacifica Limited  87,998 mi.  $33,900  2019    3\n",
       "2      2019 Subaru Outback 3.6R Limited  50,450 mi.  $32,553  2019    3\n",
       "3               2021 Subaru WRX Premium   1,552 mi.  $37,538  2021    1\n",
       "4           2020 Subaru Outback Premium  14,809 mi.  $26,200  2020    2\n",
       "...                                 ...         ...      ...   ...  ...\n",
       "9977        2018 Ford Explorer Platinum  24,553 mi.  $39,990  2018    4\n",
       "9978        2018 INFINITI Q60 3.0t LUXE  65,182 mi.  $32,989  2018    4\n",
       "9979                 2020 Honda CR-V EX  33,808 mi.  $30,499  2020    2\n",
       "9980          2013 Chevrolet Camaro 2LS  63,296 mi.  $17,899  2013    9\n",
       "9981  2012 Jeep Grand Cherokee Overland  97,619 mi.  $20,975  2012   10\n",
       "\n",
       "[9982 rows x 5 columns]"
      ]
     },
     "execution_count": 12,
     "metadata": {},
     "output_type": "execute_result"
    }
   ],
   "source": [
    "df['Age'] = 2022 - df['Year']\n",
    "df"
   ]
  },
  {
   "cell_type": "markdown",
   "metadata": {},
   "source": [
    "**Removing unecessary Symbols from Price and converting to int**"
   ]
  },
  {
   "cell_type": "code",
   "execution_count": 13,
   "metadata": {},
   "outputs": [],
   "source": [
    "df['Price'] = df['Price'].str.replace(',','')\n",
    "df['Price'] = df['Price'].str.replace('$','')\n",
    "df['Price'] = df['Price'].astype(int)"
   ]
  },
  {
   "cell_type": "code",
   "execution_count": 14,
   "metadata": {},
   "outputs": [
    {
     "data": {
      "text/html": [
       "<div>\n",
       "<style scoped>\n",
       "    .dataframe tbody tr th:only-of-type {\n",
       "        vertical-align: middle;\n",
       "    }\n",
       "\n",
       "    .dataframe tbody tr th {\n",
       "        vertical-align: top;\n",
       "    }\n",
       "\n",
       "    .dataframe thead th {\n",
       "        text-align: right;\n",
       "    }\n",
       "</style>\n",
       "<table border=\"1\" class=\"dataframe\">\n",
       "  <thead>\n",
       "    <tr style=\"text-align: right;\">\n",
       "      <th></th>\n",
       "      <th>Name</th>\n",
       "      <th>Mileage</th>\n",
       "      <th>Price</th>\n",
       "      <th>Year</th>\n",
       "      <th>Age</th>\n",
       "    </tr>\n",
       "  </thead>\n",
       "  <tbody>\n",
       "    <tr>\n",
       "      <th>0</th>\n",
       "      <td>2012 Lexus LS 460 Base</td>\n",
       "      <td>56,638 mi.</td>\n",
       "      <td>29995</td>\n",
       "      <td>2012</td>\n",
       "      <td>10</td>\n",
       "    </tr>\n",
       "    <tr>\n",
       "      <th>1</th>\n",
       "      <td>2019 Chrysler Pacifica Limited</td>\n",
       "      <td>87,998 mi.</td>\n",
       "      <td>33900</td>\n",
       "      <td>2019</td>\n",
       "      <td>3</td>\n",
       "    </tr>\n",
       "    <tr>\n",
       "      <th>2</th>\n",
       "      <td>2019 Subaru Outback 3.6R Limited</td>\n",
       "      <td>50,450 mi.</td>\n",
       "      <td>32553</td>\n",
       "      <td>2019</td>\n",
       "      <td>3</td>\n",
       "    </tr>\n",
       "    <tr>\n",
       "      <th>3</th>\n",
       "      <td>2021 Subaru WRX Premium</td>\n",
       "      <td>1,552 mi.</td>\n",
       "      <td>37538</td>\n",
       "      <td>2021</td>\n",
       "      <td>1</td>\n",
       "    </tr>\n",
       "    <tr>\n",
       "      <th>4</th>\n",
       "      <td>2020 Subaru Outback Premium</td>\n",
       "      <td>14,809 mi.</td>\n",
       "      <td>26200</td>\n",
       "      <td>2020</td>\n",
       "      <td>2</td>\n",
       "    </tr>\n",
       "  </tbody>\n",
       "</table>\n",
       "</div>"
      ],
      "text/plain": [
       "                               Name     Mileage  Price  Year  Age\n",
       "0            2012 Lexus LS 460 Base  56,638 mi.  29995  2012   10\n",
       "1    2019 Chrysler Pacifica Limited  87,998 mi.  33900  2019    3\n",
       "2  2019 Subaru Outback 3.6R Limited  50,450 mi.  32553  2019    3\n",
       "3           2021 Subaru WRX Premium   1,552 mi.  37538  2021    1\n",
       "4       2020 Subaru Outback Premium  14,809 mi.  26200  2020    2"
      ]
     },
     "execution_count": 14,
     "metadata": {},
     "output_type": "execute_result"
    }
   ],
   "source": [
    "df.head()"
   ]
  },
  {
   "cell_type": "markdown",
   "metadata": {},
   "source": [
    "**Same process for mileage** "
   ]
  },
  {
   "cell_type": "code",
   "execution_count": 15,
   "metadata": {},
   "outputs": [
    {
     "data": {
      "text/html": [
       "<div>\n",
       "<style scoped>\n",
       "    .dataframe tbody tr th:only-of-type {\n",
       "        vertical-align: middle;\n",
       "    }\n",
       "\n",
       "    .dataframe tbody tr th {\n",
       "        vertical-align: top;\n",
       "    }\n",
       "\n",
       "    .dataframe thead th {\n",
       "        text-align: right;\n",
       "    }\n",
       "</style>\n",
       "<table border=\"1\" class=\"dataframe\">\n",
       "  <thead>\n",
       "    <tr style=\"text-align: right;\">\n",
       "      <th></th>\n",
       "      <th>Name</th>\n",
       "      <th>Mileage</th>\n",
       "      <th>Price</th>\n",
       "      <th>Year</th>\n",
       "      <th>Age</th>\n",
       "    </tr>\n",
       "  </thead>\n",
       "  <tbody>\n",
       "    <tr>\n",
       "      <th>0</th>\n",
       "      <td>2012 Lexus LS 460 Base</td>\n",
       "      <td>56638</td>\n",
       "      <td>29995</td>\n",
       "      <td>2012</td>\n",
       "      <td>10</td>\n",
       "    </tr>\n",
       "    <tr>\n",
       "      <th>1</th>\n",
       "      <td>2019 Chrysler Pacifica Limited</td>\n",
       "      <td>87998</td>\n",
       "      <td>33900</td>\n",
       "      <td>2019</td>\n",
       "      <td>3</td>\n",
       "    </tr>\n",
       "    <tr>\n",
       "      <th>2</th>\n",
       "      <td>2019 Subaru Outback 3.6R Limited</td>\n",
       "      <td>50450</td>\n",
       "      <td>32553</td>\n",
       "      <td>2019</td>\n",
       "      <td>3</td>\n",
       "    </tr>\n",
       "    <tr>\n",
       "      <th>3</th>\n",
       "      <td>2021 Subaru WRX Premium</td>\n",
       "      <td>1552</td>\n",
       "      <td>37538</td>\n",
       "      <td>2021</td>\n",
       "      <td>1</td>\n",
       "    </tr>\n",
       "    <tr>\n",
       "      <th>4</th>\n",
       "      <td>2020 Subaru Outback Premium</td>\n",
       "      <td>14809</td>\n",
       "      <td>26200</td>\n",
       "      <td>2020</td>\n",
       "      <td>2</td>\n",
       "    </tr>\n",
       "  </tbody>\n",
       "</table>\n",
       "</div>"
      ],
      "text/plain": [
       "                               Name Mileage  Price  Year  Age\n",
       "0            2012 Lexus LS 460 Base   56638  29995  2012   10\n",
       "1    2019 Chrysler Pacifica Limited   87998  33900  2019    3\n",
       "2  2019 Subaru Outback 3.6R Limited   50450  32553  2019    3\n",
       "3           2021 Subaru WRX Premium    1552  37538  2021    1\n",
       "4       2020 Subaru Outback Premium   14809  26200  2020    2"
      ]
     },
     "execution_count": 15,
     "metadata": {},
     "output_type": "execute_result"
    }
   ],
   "source": [
    "df['Mileage'] = df['Mileage'].str.replace(',','')\n",
    "df['Mileage'] = df['Mileage'].str.replace(' mi.','')\n",
    "df.head()"
   ]
  },
  {
   "cell_type": "code",
   "execution_count": 16,
   "metadata": {},
   "outputs": [
    {
     "data": {
      "text/plain": [
       "Name       object\n",
       "Mileage     int64\n",
       "Price       int64\n",
       "Year        int64\n",
       "Age         int64\n",
       "dtype: object"
      ]
     },
     "execution_count": 16,
     "metadata": {},
     "output_type": "execute_result"
    }
   ],
   "source": [
    "df['Mileage'] = df['Mileage'].astype(int)\n",
    "df.dtypes"
   ]
  },
  {
   "cell_type": "markdown",
   "metadata": {},
   "source": [
    "Saving df before filtering to only include targeted models, in case we want to build a project with other makes and models in the future. "
   ]
  },
  {
   "cell_type": "code",
   "execution_count": 17,
   "metadata": {},
   "outputs": [],
   "source": [
    "original_df = df"
   ]
  },
  {
   "cell_type": "markdown",
   "metadata": {},
   "source": [
    "**Categorizing for targeted models (Civic, Accord, Corolla, Camry)**"
   ]
  },
  {
   "cell_type": "code",
   "execution_count": 18,
   "metadata": {},
   "outputs": [
    {
     "data": {
      "text/html": [
       "<div>\n",
       "<style scoped>\n",
       "    .dataframe tbody tr th:only-of-type {\n",
       "        vertical-align: middle;\n",
       "    }\n",
       "\n",
       "    .dataframe tbody tr th {\n",
       "        vertical-align: top;\n",
       "    }\n",
       "\n",
       "    .dataframe thead th {\n",
       "        text-align: right;\n",
       "    }\n",
       "</style>\n",
       "<table border=\"1\" class=\"dataframe\">\n",
       "  <thead>\n",
       "    <tr style=\"text-align: right;\">\n",
       "      <th></th>\n",
       "      <th>Name</th>\n",
       "      <th>Mileage</th>\n",
       "      <th>Price</th>\n",
       "      <th>Year</th>\n",
       "      <th>Age</th>\n",
       "      <th>Model</th>\n",
       "    </tr>\n",
       "  </thead>\n",
       "  <tbody>\n",
       "    <tr>\n",
       "      <th>0</th>\n",
       "      <td>2012 Lexus LS 460 Base</td>\n",
       "      <td>56638</td>\n",
       "      <td>29995</td>\n",
       "      <td>2012</td>\n",
       "      <td>10</td>\n",
       "      <td>NaN</td>\n",
       "    </tr>\n",
       "    <tr>\n",
       "      <th>1</th>\n",
       "      <td>2019 Chrysler Pacifica Limited</td>\n",
       "      <td>87998</td>\n",
       "      <td>33900</td>\n",
       "      <td>2019</td>\n",
       "      <td>3</td>\n",
       "      <td>NaN</td>\n",
       "    </tr>\n",
       "    <tr>\n",
       "      <th>2</th>\n",
       "      <td>2019 Subaru Outback 3.6R Limited</td>\n",
       "      <td>50450</td>\n",
       "      <td>32553</td>\n",
       "      <td>2019</td>\n",
       "      <td>3</td>\n",
       "      <td>NaN</td>\n",
       "    </tr>\n",
       "    <tr>\n",
       "      <th>3</th>\n",
       "      <td>2021 Subaru WRX Premium</td>\n",
       "      <td>1552</td>\n",
       "      <td>37538</td>\n",
       "      <td>2021</td>\n",
       "      <td>1</td>\n",
       "      <td>NaN</td>\n",
       "    </tr>\n",
       "    <tr>\n",
       "      <th>4</th>\n",
       "      <td>2020 Subaru Outback Premium</td>\n",
       "      <td>14809</td>\n",
       "      <td>26200</td>\n",
       "      <td>2020</td>\n",
       "      <td>2</td>\n",
       "      <td>NaN</td>\n",
       "    </tr>\n",
       "  </tbody>\n",
       "</table>\n",
       "</div>"
      ],
      "text/plain": [
       "                               Name  Mileage  Price  Year  Age Model\n",
       "0            2012 Lexus LS 460 Base    56638  29995  2012   10   NaN\n",
       "1    2019 Chrysler Pacifica Limited    87998  33900  2019    3   NaN\n",
       "2  2019 Subaru Outback 3.6R Limited    50450  32553  2019    3   NaN\n",
       "3           2021 Subaru WRX Premium     1552  37538  2021    1   NaN\n",
       "4       2020 Subaru Outback Premium    14809  26200  2020    2   NaN"
      ]
     },
     "execution_count": 18,
     "metadata": {},
     "output_type": "execute_result"
    }
   ],
   "source": [
    "df.loc[df['Name'].str.contains('Civic'), 'Model'] = 'Civic'\n",
    "df.loc[df['Name'].str.contains('Accord'), 'Model'] = 'Accord'\n",
    "df.loc[df['Name'].str.contains('Corolla'), 'Model'] = 'Corolla'\n",
    "df.loc[df['Name'].str.contains('Camry'), 'Model'] = 'Camry'\n",
    "df.head()"
   ]
  },
  {
   "cell_type": "code",
   "execution_count": 19,
   "metadata": {},
   "outputs": [],
   "source": [
    "df = df.dropna()"
   ]
  },
  {
   "cell_type": "code",
   "execution_count": 20,
   "metadata": {},
   "outputs": [
    {
     "data": {
      "text/html": [
       "<div>\n",
       "<style scoped>\n",
       "    .dataframe tbody tr th:only-of-type {\n",
       "        vertical-align: middle;\n",
       "    }\n",
       "\n",
       "    .dataframe tbody tr th {\n",
       "        vertical-align: top;\n",
       "    }\n",
       "\n",
       "    .dataframe thead th {\n",
       "        text-align: right;\n",
       "    }\n",
       "</style>\n",
       "<table border=\"1\" class=\"dataframe\">\n",
       "  <thead>\n",
       "    <tr style=\"text-align: right;\">\n",
       "      <th></th>\n",
       "      <th>Name</th>\n",
       "      <th>Mileage</th>\n",
       "      <th>Price</th>\n",
       "      <th>Year</th>\n",
       "      <th>Age</th>\n",
       "      <th>Model</th>\n",
       "    </tr>\n",
       "  </thead>\n",
       "  <tbody>\n",
       "    <tr>\n",
       "      <th>14</th>\n",
       "      <td>2020 Honda Accord LX 1.5T</td>\n",
       "      <td>10949</td>\n",
       "      <td>24995</td>\n",
       "      <td>2020</td>\n",
       "      <td>2</td>\n",
       "      <td>Accord</td>\n",
       "    </tr>\n",
       "    <tr>\n",
       "      <th>16</th>\n",
       "      <td>2019 Honda Accord Sport 2.0T</td>\n",
       "      <td>45157</td>\n",
       "      <td>24300</td>\n",
       "      <td>2019</td>\n",
       "      <td>3</td>\n",
       "      <td>Accord</td>\n",
       "    </tr>\n",
       "    <tr>\n",
       "      <th>20</th>\n",
       "      <td>2019 Honda Civic Sport</td>\n",
       "      <td>32717</td>\n",
       "      <td>20550</td>\n",
       "      <td>2019</td>\n",
       "      <td>3</td>\n",
       "      <td>Civic</td>\n",
       "    </tr>\n",
       "    <tr>\n",
       "      <th>34</th>\n",
       "      <td>2019 Toyota Camry LE</td>\n",
       "      <td>16838</td>\n",
       "      <td>25995</td>\n",
       "      <td>2019</td>\n",
       "      <td>3</td>\n",
       "      <td>Camry</td>\n",
       "    </tr>\n",
       "    <tr>\n",
       "      <th>42</th>\n",
       "      <td>2021 Toyota Camry XSE</td>\n",
       "      <td>30434</td>\n",
       "      <td>37518</td>\n",
       "      <td>2021</td>\n",
       "      <td>1</td>\n",
       "      <td>Camry</td>\n",
       "    </tr>\n",
       "  </tbody>\n",
       "</table>\n",
       "</div>"
      ],
      "text/plain": [
       "                            Name  Mileage  Price  Year  Age   Model\n",
       "14     2020 Honda Accord LX 1.5T    10949  24995  2020    2  Accord\n",
       "16  2019 Honda Accord Sport 2.0T    45157  24300  2019    3  Accord\n",
       "20        2019 Honda Civic Sport    32717  20550  2019    3   Civic\n",
       "34          2019 Toyota Camry LE    16838  25995  2019    3   Camry\n",
       "42         2021 Toyota Camry XSE    30434  37518  2021    1   Camry"
      ]
     },
     "execution_count": 20,
     "metadata": {},
     "output_type": "execute_result"
    }
   ],
   "source": [
    "df.head()"
   ]
  },
  {
   "cell_type": "code",
   "execution_count": 21,
   "metadata": {},
   "outputs": [
    {
     "data": {
      "text/plain": [
       "array(['2020 Honda Accord LX 1.5T', '2019 Honda Accord Sport 2.0T',\n",
       "       '2019 Honda Civic Sport', '2019 Toyota Camry LE',\n",
       "       '2021 Toyota Camry XSE', '2021 Honda Civic Sport',\n",
       "       '2020 Honda Civic Sport', '2015 Honda Accord EX-L',\n",
       "       '2020 Honda Accord Sport 1.5T', '2020 Toyota Corolla LE',\n",
       "       '2019 Toyota Camry SE', '2019 Toyota Corolla LE',\n",
       "       '2022 Toyota Corolla LE', '2016 Toyota Corolla L',\n",
       "       '2019 Toyota Camry XSE', '2020 Toyota Camry LE',\n",
       "       '2020 Toyota Camry XSE', '2021 Toyota Camry LE',\n",
       "       '2021 Honda Accord EX-L', '2016 Honda Accord EX-L',\n",
       "       '2020 Honda Civic EX', '2019 Honda Civic EX',\n",
       "       '2020 Honda Civic LX', '2019 Honda Accord EX-L',\n",
       "       '2017 Toyota Camry SE', '2020 Honda Civic Si Base',\n",
       "       '2020 Toyota Corolla SE', '2021 Toyota Corolla LE',\n",
       "       '2017 Toyota Corolla LE', '2019 Honda Civic LX',\n",
       "       '2021 Honda Accord Sport SE', '2017 Honda Accord EX-L',\n",
       "       '2021 Honda Accord Sport 1.5T', '2021 Toyota Corolla SE',\n",
       "       '2021 Toyota Camry Hybrid SE', '2017 Honda Civic LX',\n",
       "       '2016 Honda Accord Touring', '2016 Honda Accord Sport',\n",
       "       '2020 Honda Accord ', '2018 Honda Accord EX-L',\n",
       "       '2019 Toyota Corolla L', '2018 Honda Civic EX',\n",
       "       '2019 Honda Accord LX', '2021 Honda Accord ',\n",
       "       '2018 Honda Accord LX', '2017 Honda Civic EX-L',\n",
       "       '2020 Honda Civic EX-L', '2018 Toyota Corolla SE',\n",
       "       '2017 Toyota Camry LE', '2014 Honda Accord EX-L',\n",
       "       '2019 Honda Accord Sport', '2019 Toyota Corolla Hatchback SE',\n",
       "       '2016 Toyota Camry SE', '2017 Honda Accord LX',\n",
       "       '2020 Toyota Corolla Hybrid LE', '2018 Toyota Camry SE',\n",
       "       '2018 Toyota Camry XLE', '2017 Toyota Corolla iM Base',\n",
       "       '2010 Honda Accord Crosstour EX-L', '2018 Toyota Corolla LE',\n",
       "       '2013 Honda Accord EX-L', '2018 Toyota Camry XSE',\n",
       "       '2018 Honda Civic LX', '2020 Toyota Camry SE',\n",
       "       '2015 Honda Civic LX', '2016 Honda Civic EX-L',\n",
       "       '2018 Toyota Camry LE', '2015 Toyota Corolla LE',\n",
       "       '2017 Toyota Corolla XLE', '2015 Toyota Camry SE',\n",
       "       '2016 Honda Civic EX', '2013 Honda Civic LX',\n",
       "       '2020 Honda Accord EX 1.5T', '2017 Honda Accord Sport',\n",
       "       '2015 Honda Accord Sport', '2018 Honda Civic EX-T',\n",
       "       '2019 Toyota Camry L', '2013 Toyota Camry LE',\n",
       "       '2019 Toyota Camry Hybrid SE', '2019 Honda Civic ',\n",
       "       '2016 Honda Accord LX', '2020 Toyota Camry Hybrid LE',\n",
       "       '2017 Toyota Corolla SE', '2014 Honda Accord Sport',\n",
       "       '2022 Toyota Camry LE', '2020 Toyota Camry Hybrid XLE',\n",
       "       '2014 Honda Accord EX', '2020 Honda Accord Sport 2.0T',\n",
       "       '2020 Toyota Camry SE Nightshade', '2016 Honda Civic EX-T',\n",
       "       '2017 Honda Civic EX', '2015 Honda Civic EX',\n",
       "       '2014 Toyota Corolla LE', '2013 Toyota Corolla LE',\n",
       "       '2008 Honda Accord EX-L', '2015 Honda Civic EX-L',\n",
       "       '2018 Toyota Corolla iM Base', '2020 Honda Civic ',\n",
       "       '2014 Honda Accord LX', '2022 Toyota Corolla Hatchback SE',\n",
       "       '2013 Toyota Camry SE', '2017 Honda Civic EX-T',\n",
       "       '2022 Honda Civic Sport', '2015 Toyota Camry XLE',\n",
       "       '2007 Honda Accord EX', '2013 Honda Accord LX-S',\n",
       "       '2018 Honda Accord Touring 2.0T', '2021 Toyota Camry SE',\n",
       "       '2012 Honda Civic Si', '2014 Toyota Corolla S Plus',\n",
       "       '2020 Toyota Camry XSE V6', '2019 Honda Accord ',\n",
       "       '2013 Toyota Corolla S', '2018 Honda Civic Sport',\n",
       "       '2014 Toyota Camry SE', '2022 Toyota Camry XSE',\n",
       "       '2007 Honda Civic LX', '2015 Toyota Corolla LE Plus',\n",
       "       '2012 Honda Civic EX-L', '2003 Toyota Camry LE',\n",
       "       '2012 Honda Accord EX-L', '2021 Honda Accord Hybrid Touring',\n",
       "       '2019 Honda Accord Hybrid EX', '2014 Honda Civic Si',\n",
       "       '2014 Honda Accord Hybrid EX-L', '2018 Toyota Corolla L',\n",
       "       '2017 Toyota Corolla L', '2012 Toyota Camry LE',\n",
       "       '2012 Honda Civic LX', '2020 Honda Accord EX-L',\n",
       "       '2018 Honda Civic Touring', '2005 Honda Accord LX',\n",
       "       '2006 Honda Civic EX', '2013 Honda Civic Si',\n",
       "       '2006 Toyota Camry LE', '2018 Honda Civic Sport Touring',\n",
       "       '2008 Honda Civic Si', '2011 Honda Accord SE',\n",
       "       '2019 Toyota Corolla Hatchback XSE', '2019 Toyota Corolla SE',\n",
       "       '2018 Honda Civic EX-L', '2016 Honda Accord LX-S',\n",
       "       '2009 Honda Civic EX', '2021 Honda Accord LX 1.5T',\n",
       "       '2018 Honda Accord Sport', '2014 Toyota Camry Hybrid LE',\n",
       "       '2019 Honda Accord Hybrid Touring', '2017 Toyota Camry XSE',\n",
       "       '2017 Toyota Corolla LE ECO', '2017 Honda Accord Touring',\n",
       "       '2014 Toyota Camry Hybrid XLE', '2017 Honda Accord Hybrid EX-L',\n",
       "       '2021 Toyota Corolla Hatchback Nightshade', '2017 Honda Civic Si',\n",
       "       '2021 Toyota Corolla Hybrid LE', '2021 Toyota Camry TRD V6',\n",
       "       '2021 Toyota Camry XLE', '2014 Toyota Camry LE',\n",
       "       '2017 Honda Accord EX-L V6', '2020 Honda Accord Hybrid Touring',\n",
       "       '2022 Honda Civic ', '2021 Honda Civic LX',\n",
       "       '2015 Honda Civic Hybrid ', '2018 Honda Accord EX',\n",
       "       '2003 Toyota Camry Solara SE:', '2017 Honda Civic LX-P',\n",
       "       '2021 Honda Civic EX', '2018 Honda Accord ', '2000 Honda Civic EX',\n",
       "       '2017 Toyota Camry XLE', '2017 Toyota Corolla XSE',\n",
       "       '2012 Honda Civic EX', '2010 Toyota Corolla XLE',\n",
       "       '2016 Honda Civic LX', '2016 Toyota Corolla S Plus',\n",
       "       '2016 Toyota Camry Hybrid LE', '2020 Toyota Corolla Hatchback XSE',\n",
       "       '2009 Honda Civic VP', '2021 Honda Civic ',\n",
       "       '2017 Honda Accord Sport SE', '2019 Honda Civic Si Base',\n",
       "       '2012 Toyota Corolla LE', '2021 Toyota Camry SE Nightshade',\n",
       "       '2010 Toyota Corolla S', '2021 Honda Accord Sport 2.0T',\n",
       "       '2019 Honda Civic Touring', '2014 Toyota Corolla LE ECO',\n",
       "       '2017 Honda Civic Sport', '2018 Honda Accord Hybrid EX',\n",
       "       '2014 Toyota Camry LE-34MPG! BLUETOOTH!+MORE!',\n",
       "       '2022 Honda Civic Sport Touring', '2014 Toyota Camry L',\n",
       "       '2018 Toyota Camry L', '2019 Honda Accord Touring 2.0T',\n",
       "       '2011 Honda Accord LX-P', '2021 Toyota Corolla Hatchback SE',\n",
       "       '2019 Honda Accord EX', '2015 Toyota Camry Hybrid XLE',\n",
       "       '2016 Toyota Corolla LE Plus', '2013 Toyota Camry Hybrid XLE',\n",
       "       '2018 Honda Accord Hybrid Base', '2010 Toyota Corolla LE',\n",
       "       '2012 Toyota Camry SE', '2012 Honda Accord LX',\n",
       "       '2022 Honda Accord Sport 1.5T', '2022 Toyota Corolla Cross XLE',\n",
       "       '2020 Toyota Camry XLE', '2011 Honda Accord EX-L',\n",
       "       '2016 Toyota Camry Hybrid XLE', '2011 Toyota Camry SE',\n",
       "       '2011 Honda Accord EX', '2018 Honda Civic Si',\n",
       "       '2021 Honda Accord Hybrid EX-L', '2010 Honda Accord LX',\n",
       "       '2015 Honda Accord LX', '2011 Toyota Camry LE',\n",
       "       '2014 Honda Accord Touring', '2012 Honda Accord EX',\n",
       "       '2011 Toyota Camry Hybrid ', '2022 Honda Civic Touring',\n",
       "       '2022 Toyota Camry TRD', '2020 Honda Accord Touring 2.0T',\n",
       "       '2015 Honda Accord Hybrid Touring', '2016 Toyota Camry LE',\n",
       "       '2008 Toyota Camry LE V6', '2017 Honda Accord Hybrid Touring',\n",
       "       '2020 Honda Accord Hybrid Base', '2018 Honda Civic EX-L w/Navi',\n",
       "       '2019 Honda Civic Sport Touring', '2018 Toyota Camry Hybrid LE',\n",
       "       '2014 Toyota Corolla LE Plus', '2022 Toyota Corolla SE',\n",
       "       '2011 Honda Accord LX', '2010 Toyota Camry SE',\n",
       "       '2018 Toyota Corolla iM ', '2015 Toyota Corolla LE ECO Plus',\n",
       "       '2020 Toyota Camry TRD', '2016 Toyota Corolla LE',\n",
       "       '2010 Toyota Camry XLE', '2022 Honda Civic LX',\n",
       "       '2017 Honda Accord Hybrid Base', '2014 Toyota Corolla L',\n",
       "       '2007 Toyota Camry LE', '2021 Toyota Camry TRD',\n",
       "       '2009 Honda Accord LX', '2014 Toyota Camry XLE',\n",
       "       '2015 Honda Civic SE', '2008 Toyota Camry LE',\n",
       "       '2017 Toyota Corolla EDITION'], dtype=object)"
      ]
     },
     "execution_count": 21,
     "metadata": {},
     "output_type": "execute_result"
    }
   ],
   "source": [
    "df.Name.unique()"
   ]
  },
  {
   "cell_type": "markdown",
   "metadata": {},
   "source": [
    "**Filtering out full-options models**"
   ]
  },
  {
   "cell_type": "code",
   "execution_count": 22,
   "metadata": {},
   "outputs": [],
   "source": [
    "#For Civic\n",
    "df.loc[df['Name'].str.contains('Si'), 'Full options'] = 'Yes'\n",
    "\n",
    "#For Accord\n",
    "df.loc[df['Name'].str.contains('Touring'), 'Full options'] = 'Yes'\n",
    "df.loc[df['Name'].str.contains('Touring 2.0'), 'Full options'] = 'Yes'\n",
    "df.loc[df['Name'].str.contains('Sport 2.0'), 'Full options'] = 'Yes'\n",
    "\n",
    "#For Corolla\n",
    "df.loc[df['Name'].str.contains('XSE'), 'Full options'] = 'Yes'\n",
    "\n",
    "#For Camry\n",
    "df.loc[df['Name'].str.contains('XLE'), 'Full options'] = 'Yes'\n",
    "\n",
    "#filtering out hybrids\n",
    "df.loc[df['Name'].str.contains('Hybrid'), 'Full options'] = 'Yes'"
   ]
  },
  {
   "cell_type": "code",
   "execution_count": 23,
   "metadata": {},
   "outputs": [
    {
     "data": {
      "text/html": [
       "<div>\n",
       "<style scoped>\n",
       "    .dataframe tbody tr th:only-of-type {\n",
       "        vertical-align: middle;\n",
       "    }\n",
       "\n",
       "    .dataframe tbody tr th {\n",
       "        vertical-align: top;\n",
       "    }\n",
       "\n",
       "    .dataframe thead th {\n",
       "        text-align: right;\n",
       "    }\n",
       "</style>\n",
       "<table border=\"1\" class=\"dataframe\">\n",
       "  <thead>\n",
       "    <tr style=\"text-align: right;\">\n",
       "      <th></th>\n",
       "      <th>Name</th>\n",
       "      <th>Mileage</th>\n",
       "      <th>Price</th>\n",
       "      <th>Year</th>\n",
       "      <th>Age</th>\n",
       "      <th>Model</th>\n",
       "      <th>Full options</th>\n",
       "    </tr>\n",
       "  </thead>\n",
       "  <tbody>\n",
       "    <tr>\n",
       "      <th>14</th>\n",
       "      <td>2020 Honda Accord LX 1.5T</td>\n",
       "      <td>10949</td>\n",
       "      <td>24995</td>\n",
       "      <td>2020</td>\n",
       "      <td>2</td>\n",
       "      <td>Accord</td>\n",
       "      <td>NaN</td>\n",
       "    </tr>\n",
       "    <tr>\n",
       "      <th>16</th>\n",
       "      <td>2019 Honda Accord Sport 2.0T</td>\n",
       "      <td>45157</td>\n",
       "      <td>24300</td>\n",
       "      <td>2019</td>\n",
       "      <td>3</td>\n",
       "      <td>Accord</td>\n",
       "      <td>Yes</td>\n",
       "    </tr>\n",
       "    <tr>\n",
       "      <th>20</th>\n",
       "      <td>2019 Honda Civic Sport</td>\n",
       "      <td>32717</td>\n",
       "      <td>20550</td>\n",
       "      <td>2019</td>\n",
       "      <td>3</td>\n",
       "      <td>Civic</td>\n",
       "      <td>NaN</td>\n",
       "    </tr>\n",
       "    <tr>\n",
       "      <th>34</th>\n",
       "      <td>2019 Toyota Camry LE</td>\n",
       "      <td>16838</td>\n",
       "      <td>25995</td>\n",
       "      <td>2019</td>\n",
       "      <td>3</td>\n",
       "      <td>Camry</td>\n",
       "      <td>NaN</td>\n",
       "    </tr>\n",
       "    <tr>\n",
       "      <th>42</th>\n",
       "      <td>2021 Toyota Camry XSE</td>\n",
       "      <td>30434</td>\n",
       "      <td>37518</td>\n",
       "      <td>2021</td>\n",
       "      <td>1</td>\n",
       "      <td>Camry</td>\n",
       "      <td>Yes</td>\n",
       "    </tr>\n",
       "  </tbody>\n",
       "</table>\n",
       "</div>"
      ],
      "text/plain": [
       "                            Name  Mileage  Price  Year  Age   Model  \\\n",
       "14     2020 Honda Accord LX 1.5T    10949  24995  2020    2  Accord   \n",
       "16  2019 Honda Accord Sport 2.0T    45157  24300  2019    3  Accord   \n",
       "20        2019 Honda Civic Sport    32717  20550  2019    3   Civic   \n",
       "34          2019 Toyota Camry LE    16838  25995  2019    3   Camry   \n",
       "42         2021 Toyota Camry XSE    30434  37518  2021    1   Camry   \n",
       "\n",
       "   Full options  \n",
       "14          NaN  \n",
       "16          Yes  \n",
       "20          NaN  \n",
       "34          NaN  \n",
       "42          Yes  "
      ]
     },
     "execution_count": 23,
     "metadata": {},
     "output_type": "execute_result"
    }
   ],
   "source": [
    "df.head()"
   ]
  },
  {
   "cell_type": "code",
   "execution_count": 24,
   "metadata": {},
   "outputs": [],
   "source": [
    "df = df.loc[(df['Full options'] != 'Yes')]"
   ]
  },
  {
   "cell_type": "code",
   "execution_count": 25,
   "metadata": {},
   "outputs": [
    {
     "data": {
      "text/html": [
       "<div>\n",
       "<style scoped>\n",
       "    .dataframe tbody tr th:only-of-type {\n",
       "        vertical-align: middle;\n",
       "    }\n",
       "\n",
       "    .dataframe tbody tr th {\n",
       "        vertical-align: top;\n",
       "    }\n",
       "\n",
       "    .dataframe thead th {\n",
       "        text-align: right;\n",
       "    }\n",
       "</style>\n",
       "<table border=\"1\" class=\"dataframe\">\n",
       "  <thead>\n",
       "    <tr style=\"text-align: right;\">\n",
       "      <th></th>\n",
       "      <th>Name</th>\n",
       "      <th>Mileage</th>\n",
       "      <th>Price</th>\n",
       "      <th>Year</th>\n",
       "      <th>Age</th>\n",
       "      <th>Model</th>\n",
       "      <th>Full options</th>\n",
       "    </tr>\n",
       "  </thead>\n",
       "  <tbody>\n",
       "    <tr>\n",
       "      <th>14</th>\n",
       "      <td>2020 Honda Accord LX 1.5T</td>\n",
       "      <td>10949</td>\n",
       "      <td>24995</td>\n",
       "      <td>2020</td>\n",
       "      <td>2</td>\n",
       "      <td>Accord</td>\n",
       "      <td>NaN</td>\n",
       "    </tr>\n",
       "    <tr>\n",
       "      <th>20</th>\n",
       "      <td>2019 Honda Civic Sport</td>\n",
       "      <td>32717</td>\n",
       "      <td>20550</td>\n",
       "      <td>2019</td>\n",
       "      <td>3</td>\n",
       "      <td>Civic</td>\n",
       "      <td>NaN</td>\n",
       "    </tr>\n",
       "    <tr>\n",
       "      <th>34</th>\n",
       "      <td>2019 Toyota Camry LE</td>\n",
       "      <td>16838</td>\n",
       "      <td>25995</td>\n",
       "      <td>2019</td>\n",
       "      <td>3</td>\n",
       "      <td>Camry</td>\n",
       "      <td>NaN</td>\n",
       "    </tr>\n",
       "    <tr>\n",
       "      <th>47</th>\n",
       "      <td>2021 Honda Civic Sport</td>\n",
       "      <td>13904</td>\n",
       "      <td>27161</td>\n",
       "      <td>2021</td>\n",
       "      <td>1</td>\n",
       "      <td>Civic</td>\n",
       "      <td>NaN</td>\n",
       "    </tr>\n",
       "    <tr>\n",
       "      <th>56</th>\n",
       "      <td>2020 Honda Civic Sport</td>\n",
       "      <td>28400</td>\n",
       "      <td>21550</td>\n",
       "      <td>2020</td>\n",
       "      <td>2</td>\n",
       "      <td>Civic</td>\n",
       "      <td>NaN</td>\n",
       "    </tr>\n",
       "  </tbody>\n",
       "</table>\n",
       "</div>"
      ],
      "text/plain": [
       "                         Name  Mileage  Price  Year  Age   Model Full options\n",
       "14  2020 Honda Accord LX 1.5T    10949  24995  2020    2  Accord          NaN\n",
       "20     2019 Honda Civic Sport    32717  20550  2019    3   Civic          NaN\n",
       "34       2019 Toyota Camry LE    16838  25995  2019    3   Camry          NaN\n",
       "47     2021 Honda Civic Sport    13904  27161  2021    1   Civic          NaN\n",
       "56     2020 Honda Civic Sport    28400  21550  2020    2   Civic          NaN"
      ]
     },
     "execution_count": 25,
     "metadata": {},
     "output_type": "execute_result"
    }
   ],
   "source": [
    "df.head()"
   ]
  },
  {
   "cell_type": "code",
   "execution_count": 26,
   "metadata": {},
   "outputs": [
    {
     "data": {
      "text/plain": [
       "Accord     186\n",
       "Civic      165\n",
       "Camry      161\n",
       "Corolla    147\n",
       "Name: Model, dtype: int64"
      ]
     },
     "execution_count": 26,
     "metadata": {},
     "output_type": "execute_result"
    }
   ],
   "source": [
    "df['Model'].value_counts()"
   ]
  },
  {
   "cell_type": "code",
   "execution_count": 27,
   "metadata": {
    "scrolled": true
   },
   "outputs": [],
   "source": [
    "df = df.drop('Full options',1)"
   ]
  },
  {
   "cell_type": "code",
   "execution_count": 28,
   "metadata": {},
   "outputs": [
    {
     "data": {
      "text/html": [
       "<div>\n",
       "<style scoped>\n",
       "    .dataframe tbody tr th:only-of-type {\n",
       "        vertical-align: middle;\n",
       "    }\n",
       "\n",
       "    .dataframe tbody tr th {\n",
       "        vertical-align: top;\n",
       "    }\n",
       "\n",
       "    .dataframe thead th {\n",
       "        text-align: right;\n",
       "    }\n",
       "</style>\n",
       "<table border=\"1\" class=\"dataframe\">\n",
       "  <thead>\n",
       "    <tr style=\"text-align: right;\">\n",
       "      <th></th>\n",
       "      <th>Name</th>\n",
       "      <th>Mileage</th>\n",
       "      <th>Price</th>\n",
       "      <th>Year</th>\n",
       "      <th>Age</th>\n",
       "      <th>Model</th>\n",
       "    </tr>\n",
       "  </thead>\n",
       "  <tbody>\n",
       "    <tr>\n",
       "      <th>14</th>\n",
       "      <td>2020 Honda Accord LX 1.5T</td>\n",
       "      <td>10949</td>\n",
       "      <td>24995</td>\n",
       "      <td>2020</td>\n",
       "      <td>2</td>\n",
       "      <td>Accord</td>\n",
       "    </tr>\n",
       "    <tr>\n",
       "      <th>20</th>\n",
       "      <td>2019 Honda Civic Sport</td>\n",
       "      <td>32717</td>\n",
       "      <td>20550</td>\n",
       "      <td>2019</td>\n",
       "      <td>3</td>\n",
       "      <td>Civic</td>\n",
       "    </tr>\n",
       "    <tr>\n",
       "      <th>34</th>\n",
       "      <td>2019 Toyota Camry LE</td>\n",
       "      <td>16838</td>\n",
       "      <td>25995</td>\n",
       "      <td>2019</td>\n",
       "      <td>3</td>\n",
       "      <td>Camry</td>\n",
       "    </tr>\n",
       "    <tr>\n",
       "      <th>47</th>\n",
       "      <td>2021 Honda Civic Sport</td>\n",
       "      <td>13904</td>\n",
       "      <td>27161</td>\n",
       "      <td>2021</td>\n",
       "      <td>1</td>\n",
       "      <td>Civic</td>\n",
       "    </tr>\n",
       "    <tr>\n",
       "      <th>56</th>\n",
       "      <td>2020 Honda Civic Sport</td>\n",
       "      <td>28400</td>\n",
       "      <td>21550</td>\n",
       "      <td>2020</td>\n",
       "      <td>2</td>\n",
       "      <td>Civic</td>\n",
       "    </tr>\n",
       "  </tbody>\n",
       "</table>\n",
       "</div>"
      ],
      "text/plain": [
       "                         Name  Mileage  Price  Year  Age   Model\n",
       "14  2020 Honda Accord LX 1.5T    10949  24995  2020    2  Accord\n",
       "20     2019 Honda Civic Sport    32717  20550  2019    3   Civic\n",
       "34       2019 Toyota Camry LE    16838  25995  2019    3   Camry\n",
       "47     2021 Honda Civic Sport    13904  27161  2021    1   Civic\n",
       "56     2020 Honda Civic Sport    28400  21550  2020    2   Civic"
      ]
     },
     "execution_count": 28,
     "metadata": {},
     "output_type": "execute_result"
    }
   ],
   "source": [
    "df.head()"
   ]
  },
  {
   "cell_type": "markdown",
   "metadata": {},
   "source": [
    "**Statistical Summary**"
   ]
  },
  {
   "cell_type": "code",
   "execution_count": 29,
   "metadata": {},
   "outputs": [
    {
     "data": {
      "text/html": [
       "<div>\n",
       "<style scoped>\n",
       "    .dataframe tbody tr th:only-of-type {\n",
       "        vertical-align: middle;\n",
       "    }\n",
       "\n",
       "    .dataframe tbody tr th {\n",
       "        vertical-align: top;\n",
       "    }\n",
       "\n",
       "    .dataframe thead th {\n",
       "        text-align: right;\n",
       "    }\n",
       "</style>\n",
       "<table border=\"1\" class=\"dataframe\">\n",
       "  <thead>\n",
       "    <tr style=\"text-align: right;\">\n",
       "      <th></th>\n",
       "      <th>Mileage</th>\n",
       "      <th>Price</th>\n",
       "      <th>Year</th>\n",
       "      <th>Age</th>\n",
       "    </tr>\n",
       "  </thead>\n",
       "  <tbody>\n",
       "    <tr>\n",
       "      <th>count</th>\n",
       "      <td>659.000000</td>\n",
       "      <td>659.000000</td>\n",
       "      <td>659.000000</td>\n",
       "      <td>659.000000</td>\n",
       "    </tr>\n",
       "    <tr>\n",
       "      <th>mean</th>\n",
       "      <td>50273.792109</td>\n",
       "      <td>22643.986343</td>\n",
       "      <td>2017.663126</td>\n",
       "      <td>4.336874</td>\n",
       "    </tr>\n",
       "    <tr>\n",
       "      <th>std</th>\n",
       "      <td>37663.800851</td>\n",
       "      <td>5663.732070</td>\n",
       "      <td>3.304049</td>\n",
       "      <td>3.304049</td>\n",
       "    </tr>\n",
       "    <tr>\n",
       "      <th>min</th>\n",
       "      <td>306.000000</td>\n",
       "      <td>3995.000000</td>\n",
       "      <td>2000.000000</td>\n",
       "      <td>0.000000</td>\n",
       "    </tr>\n",
       "    <tr>\n",
       "      <th>25%</th>\n",
       "      <td>23917.500000</td>\n",
       "      <td>19032.000000</td>\n",
       "      <td>2016.000000</td>\n",
       "      <td>2.000000</td>\n",
       "    </tr>\n",
       "    <tr>\n",
       "      <th>50%</th>\n",
       "      <td>41531.000000</td>\n",
       "      <td>22990.000000</td>\n",
       "      <td>2019.000000</td>\n",
       "      <td>3.000000</td>\n",
       "    </tr>\n",
       "    <tr>\n",
       "      <th>75%</th>\n",
       "      <td>67191.500000</td>\n",
       "      <td>26495.000000</td>\n",
       "      <td>2020.000000</td>\n",
       "      <td>6.000000</td>\n",
       "    </tr>\n",
       "    <tr>\n",
       "      <th>max</th>\n",
       "      <td>274166.000000</td>\n",
       "      <td>39485.000000</td>\n",
       "      <td>2022.000000</td>\n",
       "      <td>22.000000</td>\n",
       "    </tr>\n",
       "  </tbody>\n",
       "</table>\n",
       "</div>"
      ],
      "text/plain": [
       "             Mileage         Price         Year         Age\n",
       "count     659.000000    659.000000   659.000000  659.000000\n",
       "mean    50273.792109  22643.986343  2017.663126    4.336874\n",
       "std     37663.800851   5663.732070     3.304049    3.304049\n",
       "min       306.000000   3995.000000  2000.000000    0.000000\n",
       "25%     23917.500000  19032.000000  2016.000000    2.000000\n",
       "50%     41531.000000  22990.000000  2019.000000    3.000000\n",
       "75%     67191.500000  26495.000000  2020.000000    6.000000\n",
       "max    274166.000000  39485.000000  2022.000000   22.000000"
      ]
     },
     "execution_count": 29,
     "metadata": {},
     "output_type": "execute_result"
    }
   ],
   "source": [
    "df.describe()"
   ]
  },
  {
   "cell_type": "markdown",
   "metadata": {},
   "source": [
    "## EDA"
   ]
  },
  {
   "cell_type": "code",
   "execution_count": 30,
   "metadata": {},
   "outputs": [
    {
     "data": {
      "text/html": [
       "<div>\n",
       "<style scoped>\n",
       "    .dataframe tbody tr th:only-of-type {\n",
       "        vertical-align: middle;\n",
       "    }\n",
       "\n",
       "    .dataframe tbody tr th {\n",
       "        vertical-align: top;\n",
       "    }\n",
       "\n",
       "    .dataframe thead th {\n",
       "        text-align: right;\n",
       "    }\n",
       "</style>\n",
       "<table border=\"1\" class=\"dataframe\">\n",
       "  <thead>\n",
       "    <tr style=\"text-align: right;\">\n",
       "      <th></th>\n",
       "      <th>Mileage</th>\n",
       "      <th>Price</th>\n",
       "      <th>Model</th>\n",
       "      <th>Age</th>\n",
       "    </tr>\n",
       "  </thead>\n",
       "  <tbody>\n",
       "    <tr>\n",
       "      <th>14</th>\n",
       "      <td>10949</td>\n",
       "      <td>24995</td>\n",
       "      <td>Accord</td>\n",
       "      <td>2</td>\n",
       "    </tr>\n",
       "    <tr>\n",
       "      <th>20</th>\n",
       "      <td>32717</td>\n",
       "      <td>20550</td>\n",
       "      <td>Civic</td>\n",
       "      <td>3</td>\n",
       "    </tr>\n",
       "    <tr>\n",
       "      <th>34</th>\n",
       "      <td>16838</td>\n",
       "      <td>25995</td>\n",
       "      <td>Camry</td>\n",
       "      <td>3</td>\n",
       "    </tr>\n",
       "    <tr>\n",
       "      <th>47</th>\n",
       "      <td>13904</td>\n",
       "      <td>27161</td>\n",
       "      <td>Civic</td>\n",
       "      <td>1</td>\n",
       "    </tr>\n",
       "    <tr>\n",
       "      <th>56</th>\n",
       "      <td>28400</td>\n",
       "      <td>21550</td>\n",
       "      <td>Civic</td>\n",
       "      <td>2</td>\n",
       "    </tr>\n",
       "  </tbody>\n",
       "</table>\n",
       "</div>"
      ],
      "text/plain": [
       "    Mileage  Price   Model  Age\n",
       "14    10949  24995  Accord    2\n",
       "20    32717  20550   Civic    3\n",
       "34    16838  25995   Camry    3\n",
       "47    13904  27161   Civic    1\n",
       "56    28400  21550   Civic    2"
      ]
     },
     "execution_count": 30,
     "metadata": {},
     "output_type": "execute_result"
    }
   ],
   "source": [
    "final_dataset = df[['Mileage','Price','Model','Age']]\n",
    "final_dataset.head()"
   ]
  },
  {
   "cell_type": "code",
   "execution_count": 31,
   "metadata": {},
   "outputs": [],
   "source": [
    "final_dataset = final_dataset.reset_index()"
   ]
  },
  {
   "cell_type": "code",
   "execution_count": 32,
   "metadata": {},
   "outputs": [
    {
     "data": {
      "text/html": [
       "<div>\n",
       "<style scoped>\n",
       "    .dataframe tbody tr th:only-of-type {\n",
       "        vertical-align: middle;\n",
       "    }\n",
       "\n",
       "    .dataframe tbody tr th {\n",
       "        vertical-align: top;\n",
       "    }\n",
       "\n",
       "    .dataframe thead th {\n",
       "        text-align: right;\n",
       "    }\n",
       "</style>\n",
       "<table border=\"1\" class=\"dataframe\">\n",
       "  <thead>\n",
       "    <tr style=\"text-align: right;\">\n",
       "      <th></th>\n",
       "      <th>index</th>\n",
       "      <th>Mileage</th>\n",
       "      <th>Price</th>\n",
       "      <th>Model</th>\n",
       "      <th>Age</th>\n",
       "    </tr>\n",
       "  </thead>\n",
       "  <tbody>\n",
       "    <tr>\n",
       "      <th>0</th>\n",
       "      <td>14</td>\n",
       "      <td>10949</td>\n",
       "      <td>24995</td>\n",
       "      <td>Accord</td>\n",
       "      <td>2</td>\n",
       "    </tr>\n",
       "    <tr>\n",
       "      <th>1</th>\n",
       "      <td>20</td>\n",
       "      <td>32717</td>\n",
       "      <td>20550</td>\n",
       "      <td>Civic</td>\n",
       "      <td>3</td>\n",
       "    </tr>\n",
       "    <tr>\n",
       "      <th>2</th>\n",
       "      <td>34</td>\n",
       "      <td>16838</td>\n",
       "      <td>25995</td>\n",
       "      <td>Camry</td>\n",
       "      <td>3</td>\n",
       "    </tr>\n",
       "    <tr>\n",
       "      <th>3</th>\n",
       "      <td>47</td>\n",
       "      <td>13904</td>\n",
       "      <td>27161</td>\n",
       "      <td>Civic</td>\n",
       "      <td>1</td>\n",
       "    </tr>\n",
       "    <tr>\n",
       "      <th>4</th>\n",
       "      <td>56</td>\n",
       "      <td>28400</td>\n",
       "      <td>21550</td>\n",
       "      <td>Civic</td>\n",
       "      <td>2</td>\n",
       "    </tr>\n",
       "  </tbody>\n",
       "</table>\n",
       "</div>"
      ],
      "text/plain": [
       "   index  Mileage  Price   Model  Age\n",
       "0     14    10949  24995  Accord    2\n",
       "1     20    32717  20550   Civic    3\n",
       "2     34    16838  25995   Camry    3\n",
       "3     47    13904  27161   Civic    1\n",
       "4     56    28400  21550   Civic    2"
      ]
     },
     "execution_count": 32,
     "metadata": {},
     "output_type": "execute_result"
    }
   ],
   "source": [
    "final_dataset.head()"
   ]
  },
  {
   "cell_type": "code",
   "execution_count": 33,
   "metadata": {},
   "outputs": [],
   "source": [
    "final_dataset = final_dataset.drop('index',1)"
   ]
  },
  {
   "cell_type": "code",
   "execution_count": 34,
   "metadata": {},
   "outputs": [
    {
     "data": {
      "text/html": [
       "<div>\n",
       "<style scoped>\n",
       "    .dataframe tbody tr th:only-of-type {\n",
       "        vertical-align: middle;\n",
       "    }\n",
       "\n",
       "    .dataframe tbody tr th {\n",
       "        vertical-align: top;\n",
       "    }\n",
       "\n",
       "    .dataframe thead th {\n",
       "        text-align: right;\n",
       "    }\n",
       "</style>\n",
       "<table border=\"1\" class=\"dataframe\">\n",
       "  <thead>\n",
       "    <tr style=\"text-align: right;\">\n",
       "      <th></th>\n",
       "      <th>Mileage</th>\n",
       "      <th>Price</th>\n",
       "      <th>Model</th>\n",
       "      <th>Age</th>\n",
       "    </tr>\n",
       "  </thead>\n",
       "  <tbody>\n",
       "    <tr>\n",
       "      <th>0</th>\n",
       "      <td>10949</td>\n",
       "      <td>24995</td>\n",
       "      <td>Accord</td>\n",
       "      <td>2</td>\n",
       "    </tr>\n",
       "    <tr>\n",
       "      <th>1</th>\n",
       "      <td>32717</td>\n",
       "      <td>20550</td>\n",
       "      <td>Civic</td>\n",
       "      <td>3</td>\n",
       "    </tr>\n",
       "    <tr>\n",
       "      <th>2</th>\n",
       "      <td>16838</td>\n",
       "      <td>25995</td>\n",
       "      <td>Camry</td>\n",
       "      <td>3</td>\n",
       "    </tr>\n",
       "    <tr>\n",
       "      <th>3</th>\n",
       "      <td>13904</td>\n",
       "      <td>27161</td>\n",
       "      <td>Civic</td>\n",
       "      <td>1</td>\n",
       "    </tr>\n",
       "    <tr>\n",
       "      <th>4</th>\n",
       "      <td>28400</td>\n",
       "      <td>21550</td>\n",
       "      <td>Civic</td>\n",
       "      <td>2</td>\n",
       "    </tr>\n",
       "  </tbody>\n",
       "</table>\n",
       "</div>"
      ],
      "text/plain": [
       "   Mileage  Price   Model  Age\n",
       "0    10949  24995  Accord    2\n",
       "1    32717  20550   Civic    3\n",
       "2    16838  25995   Camry    3\n",
       "3    13904  27161   Civic    1\n",
       "4    28400  21550   Civic    2"
      ]
     },
     "execution_count": 34,
     "metadata": {},
     "output_type": "execute_result"
    }
   ],
   "source": [
    "final_dataset.head()"
   ]
  },
  {
   "cell_type": "markdown",
   "metadata": {},
   "source": [
    "### Univariate Analysis"
   ]
  },
  {
   "cell_type": "markdown",
   "metadata": {},
   "source": [
    "**Categorical columns:**"
   ]
  },
  {
   "cell_type": "code",
   "execution_count": 35,
   "metadata": {},
   "outputs": [],
   "source": [
    "import seaborn as sns"
   ]
  },
  {
   "cell_type": "code",
   "execution_count": 36,
   "metadata": {},
   "outputs": [
    {
     "data": {
      "image/png": "[encoded data removed]",
      "text/plain": [
       "<Figure size 432x288 with 1 Axes>"
      ]
     },
     "metadata": {},
     "output_type": "display_data"
    }
   ],
   "source": [
    "sns.set_theme(style = 'darkgrid')\n",
    "ax = sns.countplot(x='Model',data=final_dataset)"
   ]
  },
  {
   "cell_type": "markdown",
   "metadata": {},
   "source": [
    "**Numerical columns**"
   ]
  },
  {
   "cell_type": "code",
   "execution_count": 37,
   "metadata": {},
   "outputs": [
    {
     "data": {
      "image/png": "[encoded data removed]",
      "text/plain": [
       "<Figure size 1440x216 with 1 Axes>"
      ]
     },
     "metadata": {},
     "output_type": "display_data"
    },
    {
     "data": {
      "image/png": "[encoded data removed]",
      "text/plain": [
       "<Figure size 1440x216 with 1 Axes>"
      ]
     },
     "metadata": {},
     "output_type": "display_data"
    },
    {
     "data": {
      "image/png": "[encoded data removed]",
      "text/plain": [
       "<Figure size 1440x216 with 1 Axes>"
      ]
     },
     "metadata": {},
     "output_type": "display_data"
    }
   ],
   "source": [
    "num_cols = ['Mileage','Price','Age']\n",
    "i=0\n",
    "while i < 3:\n",
    "    fig = plt.figure(figsize=[20,3])\n",
    "    #ax1 = fig.add_subplot(121)\n",
    "    #ax2 = fig.add_subplot(122)\n",
    "    \n",
    "    #ax1.title.set_text(num_cols[i])\n",
    "    plt.subplot(1,2,1)\n",
    "    sns.boxplot(x=num_cols[i], data=final_dataset)\n",
    "    i += 1\n",
    "    \n",
    "    \n",
    "    \n",
    "    plt.show()"
   ]
  },
  {
   "cell_type": "markdown",
   "metadata": {},
   "source": [
    "**Bivariate/Multi-Variate Analysis**"
   ]
  },
  {
   "cell_type": "code",
   "execution_count": 38,
   "metadata": {},
   "outputs": [
    {
     "data": {
      "image/png": "[encoded data removed]",
      "text/plain": [
       "<Figure size 432x288 with 2 Axes>"
      ]
     },
     "metadata": {},
     "output_type": "display_data"
    }
   ],
   "source": [
    "sns.heatmap(final_dataset.corr(), annot=True, cmap=\"RdBu\")\n",
    "plt.show()"
   ]
  },
  {
   "cell_type": "code",
   "execution_count": 39,
   "metadata": {},
   "outputs": [
    {
     "data": {
      "text/plain": [
       "Mileage   -0.761895\n",
       "Price      1.000000\n",
       "Age       -0.801688\n",
       "Name: Price, dtype: float64"
      ]
     },
     "execution_count": 39,
     "metadata": {},
     "output_type": "execute_result"
    }
   ],
   "source": [
    "final_dataset.corr()['Price']"
   ]
  },
  {
   "cell_type": "code",
   "execution_count": 40,
   "metadata": {},
   "outputs": [
    {
     "data": {
      "text/plain": [
       "<seaborn.axisgrid.PairGrid at 0x7fa9e2c63e80>"
      ]
     },
     "execution_count": 40,
     "metadata": {},
     "output_type": "execute_result"
    },
    {
     "data": {
      "image/png": "[encoded data removed]",
      "text/plain": [
       "<Figure size 540x540 with 12 Axes>"
      ]
     },
     "metadata": {},
     "output_type": "display_data"
    }
   ],
   "source": [
    "sns.pairplot(final_dataset)"
   ]
  },
  {
   "cell_type": "markdown",
   "metadata": {},
   "source": [
    "## Modeling"
   ]
  },
  {
   "cell_type": "code",
   "execution_count": 41,
   "metadata": {},
   "outputs": [],
   "source": [
    "backup = final_dataset"
   ]
  },
  {
   "cell_type": "code",
   "execution_count": 42,
   "metadata": {},
   "outputs": [],
   "source": [
    "final_dataset = pd.get_dummies(final_dataset,drop_first=True)"
   ]
  },
  {
   "cell_type": "code",
   "execution_count": 43,
   "metadata": {},
   "outputs": [
    {
     "data": {
      "text/html": [
       "<div>\n",
       "<style scoped>\n",
       "    .dataframe tbody tr th:only-of-type {\n",
       "        vertical-align: middle;\n",
       "    }\n",
       "\n",
       "    .dataframe tbody tr th {\n",
       "        vertical-align: top;\n",
       "    }\n",
       "\n",
       "    .dataframe thead th {\n",
       "        text-align: right;\n",
       "    }\n",
       "</style>\n",
       "<table border=\"1\" class=\"dataframe\">\n",
       "  <thead>\n",
       "    <tr style=\"text-align: right;\">\n",
       "      <th></th>\n",
       "      <th>Mileage</th>\n",
       "      <th>Price</th>\n",
       "      <th>Age</th>\n",
       "      <th>Model_Camry</th>\n",
       "      <th>Model_Civic</th>\n",
       "      <th>Model_Corolla</th>\n",
       "    </tr>\n",
       "  </thead>\n",
       "  <tbody>\n",
       "    <tr>\n",
       "      <th>0</th>\n",
       "      <td>10949</td>\n",
       "      <td>24995</td>\n",
       "      <td>2</td>\n",
       "      <td>0</td>\n",
       "      <td>0</td>\n",
       "      <td>0</td>\n",
       "    </tr>\n",
       "    <tr>\n",
       "      <th>1</th>\n",
       "      <td>32717</td>\n",
       "      <td>20550</td>\n",
       "      <td>3</td>\n",
       "      <td>0</td>\n",
       "      <td>1</td>\n",
       "      <td>0</td>\n",
       "    </tr>\n",
       "    <tr>\n",
       "      <th>2</th>\n",
       "      <td>16838</td>\n",
       "      <td>25995</td>\n",
       "      <td>3</td>\n",
       "      <td>1</td>\n",
       "      <td>0</td>\n",
       "      <td>0</td>\n",
       "    </tr>\n",
       "    <tr>\n",
       "      <th>3</th>\n",
       "      <td>13904</td>\n",
       "      <td>27161</td>\n",
       "      <td>1</td>\n",
       "      <td>0</td>\n",
       "      <td>1</td>\n",
       "      <td>0</td>\n",
       "    </tr>\n",
       "    <tr>\n",
       "      <th>4</th>\n",
       "      <td>28400</td>\n",
       "      <td>21550</td>\n",
       "      <td>2</td>\n",
       "      <td>0</td>\n",
       "      <td>1</td>\n",
       "      <td>0</td>\n",
       "    </tr>\n",
       "  </tbody>\n",
       "</table>\n",
       "</div>"
      ],
      "text/plain": [
       "   Mileage  Price  Age  Model_Camry  Model_Civic  Model_Corolla\n",
       "0    10949  24995    2            0            0              0\n",
       "1    32717  20550    3            0            1              0\n",
       "2    16838  25995    3            1            0              0\n",
       "3    13904  27161    1            0            1              0\n",
       "4    28400  21550    2            0            1              0"
      ]
     },
     "execution_count": 43,
     "metadata": {},
     "output_type": "execute_result"
    }
   ],
   "source": [
    "final_dataset.head()"
   ]
  },
  {
   "cell_type": "markdown",
   "metadata": {},
   "source": [
    "Convert to csv"
   ]
  },
  {
   "cell_type": "code",
   "execution_count": 65,
   "metadata": {},
   "outputs": [],
   "source": [
    "final_dataset.to_csv('cars_real.csv')"
   ]
  },
  {
   "cell_type": "code",
   "execution_count": 44,
   "metadata": {},
   "outputs": [
    {
     "data": {
      "text/html": [
       "<div>\n",
       "<style scoped>\n",
       "    .dataframe tbody tr th:only-of-type {\n",
       "        vertical-align: middle;\n",
       "    }\n",
       "\n",
       "    .dataframe tbody tr th {\n",
       "        vertical-align: top;\n",
       "    }\n",
       "\n",
       "    .dataframe thead th {\n",
       "        text-align: right;\n",
       "    }\n",
       "</style>\n",
       "<table border=\"1\" class=\"dataframe\">\n",
       "  <thead>\n",
       "    <tr style=\"text-align: right;\">\n",
       "      <th></th>\n",
       "      <th>Price</th>\n",
       "      <th>Mileage</th>\n",
       "      <th>Age</th>\n",
       "      <th>Model_Camry</th>\n",
       "      <th>Model_Civic</th>\n",
       "      <th>Model_Corolla</th>\n",
       "    </tr>\n",
       "  </thead>\n",
       "  <tbody>\n",
       "    <tr>\n",
       "      <th>0</th>\n",
       "      <td>24995</td>\n",
       "      <td>10949</td>\n",
       "      <td>2</td>\n",
       "      <td>0</td>\n",
       "      <td>0</td>\n",
       "      <td>0</td>\n",
       "    </tr>\n",
       "    <tr>\n",
       "      <th>1</th>\n",
       "      <td>20550</td>\n",
       "      <td>32717</td>\n",
       "      <td>3</td>\n",
       "      <td>0</td>\n",
       "      <td>1</td>\n",
       "      <td>0</td>\n",
       "    </tr>\n",
       "    <tr>\n",
       "      <th>2</th>\n",
       "      <td>25995</td>\n",
       "      <td>16838</td>\n",
       "      <td>3</td>\n",
       "      <td>1</td>\n",
       "      <td>0</td>\n",
       "      <td>0</td>\n",
       "    </tr>\n",
       "    <tr>\n",
       "      <th>3</th>\n",
       "      <td>27161</td>\n",
       "      <td>13904</td>\n",
       "      <td>1</td>\n",
       "      <td>0</td>\n",
       "      <td>1</td>\n",
       "      <td>0</td>\n",
       "    </tr>\n",
       "    <tr>\n",
       "      <th>4</th>\n",
       "      <td>21550</td>\n",
       "      <td>28400</td>\n",
       "      <td>2</td>\n",
       "      <td>0</td>\n",
       "      <td>1</td>\n",
       "      <td>0</td>\n",
       "    </tr>\n",
       "  </tbody>\n",
       "</table>\n",
       "</div>"
      ],
      "text/plain": [
       "   Price  Mileage  Age  Model_Camry  Model_Civic  Model_Corolla\n",
       "0  24995    10949    2            0            0              0\n",
       "1  20550    32717    3            0            1              0\n",
       "2  25995    16838    3            1            0              0\n",
       "3  27161    13904    1            0            1              0\n",
       "4  21550    28400    2            0            1              0"
      ]
     },
     "execution_count": 44,
     "metadata": {},
     "output_type": "execute_result"
    }
   ],
   "source": [
    "first_column = final_dataset.pop('Price')\n",
    "final_dataset.insert(0,'Price',first_column)\n",
    "final_dataset.head()"
   ]
  },
  {
   "cell_type": "code",
   "execution_count": 45,
   "metadata": {},
   "outputs": [
    {
     "data": {
      "text/html": [
       "<div>\n",
       "<style scoped>\n",
       "    .dataframe tbody tr th:only-of-type {\n",
       "        vertical-align: middle;\n",
       "    }\n",
       "\n",
       "    .dataframe tbody tr th {\n",
       "        vertical-align: top;\n",
       "    }\n",
       "\n",
       "    .dataframe thead th {\n",
       "        text-align: right;\n",
       "    }\n",
       "</style>\n",
       "<table border=\"1\" class=\"dataframe\">\n",
       "  <thead>\n",
       "    <tr style=\"text-align: right;\">\n",
       "      <th></th>\n",
       "      <th>Mileage</th>\n",
       "      <th>Age</th>\n",
       "      <th>Model_Camry</th>\n",
       "      <th>Model_Civic</th>\n",
       "      <th>Model_Corolla</th>\n",
       "    </tr>\n",
       "  </thead>\n",
       "  <tbody>\n",
       "    <tr>\n",
       "      <th>0</th>\n",
       "      <td>10949</td>\n",
       "      <td>2</td>\n",
       "      <td>0</td>\n",
       "      <td>0</td>\n",
       "      <td>0</td>\n",
       "    </tr>\n",
       "    <tr>\n",
       "      <th>1</th>\n",
       "      <td>32717</td>\n",
       "      <td>3</td>\n",
       "      <td>0</td>\n",
       "      <td>1</td>\n",
       "      <td>0</td>\n",
       "    </tr>\n",
       "    <tr>\n",
       "      <th>2</th>\n",
       "      <td>16838</td>\n",
       "      <td>3</td>\n",
       "      <td>1</td>\n",
       "      <td>0</td>\n",
       "      <td>0</td>\n",
       "    </tr>\n",
       "    <tr>\n",
       "      <th>3</th>\n",
       "      <td>13904</td>\n",
       "      <td>1</td>\n",
       "      <td>0</td>\n",
       "      <td>1</td>\n",
       "      <td>0</td>\n",
       "    </tr>\n",
       "    <tr>\n",
       "      <th>4</th>\n",
       "      <td>28400</td>\n",
       "      <td>2</td>\n",
       "      <td>0</td>\n",
       "      <td>1</td>\n",
       "      <td>0</td>\n",
       "    </tr>\n",
       "  </tbody>\n",
       "</table>\n",
       "</div>"
      ],
      "text/plain": [
       "   Mileage  Age  Model_Camry  Model_Civic  Model_Corolla\n",
       "0    10949    2            0            0              0\n",
       "1    32717    3            0            1              0\n",
       "2    16838    3            1            0              0\n",
       "3    13904    1            0            1              0\n",
       "4    28400    2            0            1              0"
      ]
     },
     "execution_count": 45,
     "metadata": {},
     "output_type": "execute_result"
    }
   ],
   "source": [
    "##independent and dependent features\n",
    "X = final_dataset.iloc[:,1:]\n",
    "y= final_dataset.iloc[:,0]\n",
    "X.head()"
   ]
  },
  {
   "cell_type": "code",
   "execution_count": 46,
   "metadata": {},
   "outputs": [
    {
     "data": {
      "text/plain": [
       "0    24995\n",
       "1    20550\n",
       "2    25995\n",
       "3    27161\n",
       "4    21550\n",
       "Name: Price, dtype: int64"
      ]
     },
     "execution_count": 46,
     "metadata": {},
     "output_type": "execute_result"
    }
   ],
   "source": [
    "y.head()"
   ]
  },
  {
   "cell_type": "code",
   "execution_count": 47,
   "metadata": {},
   "outputs": [
    {
     "data": {
      "text/plain": [
       "ExtraTreesRegressor()"
      ]
     },
     "execution_count": 47,
     "metadata": {},
     "output_type": "execute_result"
    }
   ],
   "source": [
    "### Feature Importance\n",
    "from sklearn.ensemble import ExtraTreesRegressor\n",
    "model = ExtraTreesRegressor() \n",
    "model.fit(X,y)"
   ]
  },
  {
   "cell_type": "code",
   "execution_count": 48,
   "metadata": {},
   "outputs": [
    {
     "name": "stdout",
     "output_type": "stream",
     "text": [
      "[0.35397412 0.51384411 0.01508371 0.02670929 0.09038877]\n"
     ]
    }
   ],
   "source": [
    "print(model.feature_importances_)"
   ]
  },
  {
   "cell_type": "code",
   "execution_count": 49,
   "metadata": {},
   "outputs": [
    {
     "data": {
      "image/png": "[encoded data removed]",
      "text/plain": [
       "<Figure size 432x288 with 1 Axes>"
      ]
     },
     "metadata": {},
     "output_type": "display_data"
    }
   ],
   "source": [
    "#Graph of feature importances\n",
    "feat_importances = pd.Series(model.feature_importances_,index=X.columns)\n",
    "feat_importances.nlargest(5).plot(kind='barh')\n",
    "plt.show()"
   ]
  },
  {
   "cell_type": "code",
   "execution_count": 50,
   "metadata": {},
   "outputs": [],
   "source": [
    "from sklearn.model_selection import train_test_split\n",
    "X_train,X_test,y_train,y_test = train_test_split(X,y,test_size=0.2)"
   ]
  },
  {
   "cell_type": "code",
   "execution_count": 51,
   "metadata": {},
   "outputs": [
    {
     "name": "stdout",
     "output_type": "stream",
     "text": [
      "x train:  (527, 5)\n",
      "x test:  (132, 5)\n",
      "y train:  (527,)\n",
      "y test:  (132,)\n"
     ]
    }
   ],
   "source": [
    "print(\"x train: \",X_train.shape)\n",
    "print(\"x test: \",X_test.shape)\n",
    "print(\"y train: \",y_train.shape)\n",
    "print(\"y test: \",y_test.shape)"
   ]
  },
  {
   "cell_type": "markdown",
   "metadata": {},
   "source": [
    "### Model Creation/Evaluation"
   ]
  },
  {
   "cell_type": "markdown",
   "metadata": {},
   "source": [
    "**Applying regression models**\n",
    "1. Linear Regression\n",
    "2. Ridge Regression\n",
    "3. Lasso Regression\n",
    "5. Gradient Boosting regression"
   ]
  },
  {
   "cell_type": "code",
   "execution_count": 52,
   "metadata": {},
   "outputs": [],
   "source": [
    "from sklearn.metrics import r2_score\n",
    "from sklearn.model_selection import cross_val_score"
   ]
  },
  {
   "cell_type": "code",
   "execution_count": 53,
   "metadata": {},
   "outputs": [],
   "source": [
    "CV = []\n",
    "R2_train = []\n",
    "R2_test = []\n",
    "\n",
    "def car_pred_model(model,model_name):\n",
    "    # Training model\n",
    "    model.fit(X_train,y_train)\n",
    "            \n",
    "    # R2 score of train set\n",
    "    y_pred_train = model.predict(X_train)\n",
    "    R2_train_model = r2_score(y_train,y_pred_train)\n",
    "    R2_train.append(round(R2_train_model,2))\n",
    "    \n",
    "    # R2 score of test set\n",
    "    y_pred_test = model.predict(X_test)\n",
    "    R2_test_model = r2_score(y_test,y_pred_test)\n",
    "    R2_test.append(round(R2_test_model,2))\n",
    "    \n",
    "    # R2 mean of train set using Cross validation\n",
    "    cross_val = cross_val_score(model ,X_train ,y_train ,cv=5)\n",
    "    cv_mean = cross_val.mean()\n",
    "    CV.append(round(cv_mean,2))\n",
    "    \n",
    "    # Printing results\n",
    "    print(\"Train R2-score :\",round(R2_train_model,2))\n",
    "    print(\"Test R2-score :\",round(R2_test_model,2))\n",
    "    print(\"Train CV scores :\",cross_val)\n",
    "    print(\"Train CV mean :\",round(cv_mean,2))\n",
    "    \n",
    "    # Plotting Graphs \n",
    "    # Residual Plot of train data\n",
    "    fig, ax = plt.subplots(1,2,figsize = (10,4))\n",
    "    ax[0].set_title('Residual Plot of Train samples')\n",
    "    sns.distplot((y_train-y_pred_train),hist = False,ax = ax[0])\n",
    "    ax[0].set_xlabel('y_train - y_pred_train')\n",
    "    \n",
    "    # Y_test vs Y_train scatter plot\n",
    "    ax[1].set_title('y_test vs y_pred_test')\n",
    "    ax[1].scatter(x = y_test, y = y_pred_test)\n",
    "    ax[1].set_xlabel('y_test')\n",
    "    ax[1].set_ylabel('y_pred_test')\n",
    "    \n",
    "    plt.show()"
   ]
  },
  {
   "cell_type": "markdown",
   "metadata": {},
   "source": [
    "#### Standard Linear Regression or Ordinary Least Squares"
   ]
  },
  {
   "cell_type": "code",
   "execution_count": 54,
   "metadata": {
    "scrolled": false
   },
   "outputs": [
    {
     "name": "stdout",
     "output_type": "stream",
     "text": [
      "Train R2-score : 0.86\n",
      "Test R2-score : 0.84\n",
      "Train CV scores : [0.83672871 0.883068   0.83840215 0.83857022 0.88146958]\n",
      "Train CV mean : 0.86\n"
     ]
    },
    {
     "data": {
      "image/png": "[encoded data removed]",
      "text/plain": [
       "<Figure size 720x288 with 2 Axes>"
      ]
     },
     "metadata": {},
     "output_type": "display_data"
    }
   ],
   "source": [
    "from sklearn.linear_model import LinearRegression\n",
    "\n",
    "lr = LinearRegression()\n",
    "car_pred_model(lr,\"Linear_regressor.pkl\")"
   ]
  },
  {
   "cell_type": "markdown",
   "metadata": {},
   "source": [
    "#### Ridge"
   ]
  },
  {
   "cell_type": "code",
   "execution_count": 55,
   "metadata": {},
   "outputs": [
    {
     "name": "stdout",
     "output_type": "stream",
     "text": [
      "Train R2-score : 0.86\n",
      "Test R2-score : 0.84\n",
      "Train CV scores : [0.83693871 0.88297432 0.83840044 0.83857253 0.88146894]\n",
      "Train CV mean : 0.86\n"
     ]
    },
    {
     "data": {
      "image/png": "[encoded data removed]",
      "text/plain": [
       "<Figure size 720x288 with 2 Axes>"
      ]
     },
     "metadata": {},
     "output_type": "display_data"
    }
   ],
   "source": [
    "from sklearn.linear_model import Ridge\n",
    "from sklearn.model_selection import RandomizedSearchCV\n",
    "\n",
    "# Creating Ridge model object\n",
    "rg = Ridge()\n",
    "# range of alpha \n",
    "alpha = np.logspace(-3,3,num=14)\n",
    "\n",
    "# Creating RandomizedSearchCV to find the best estimator of hyperparameter\n",
    "rg_rs = RandomizedSearchCV(estimator = rg, param_distributions = dict(alpha=alpha))\n",
    "\n",
    "car_pred_model(rg_rs,\"ridge.pkl\")"
   ]
  },
  {
   "cell_type": "markdown",
   "metadata": {},
   "source": [
    "#### Lasso"
   ]
  },
  {
   "cell_type": "code",
   "execution_count": 56,
   "metadata": {},
   "outputs": [],
   "source": [
    "from sklearn.linear_model import Lasso\n",
    "from sklearn.model_selection import RandomizedSearchCV\n",
    "\n",
    "ls = Lasso()\n",
    "alpha = np.logspace(-3,3,num=14) # range for alpha\n",
    "\n",
    "ls_rs = RandomizedSearchCV(estimator = ls, param_distributions = dict(alpha=alpha))"
   ]
  },
  {
   "cell_type": "code",
   "execution_count": 57,
   "metadata": {
    "scrolled": false
   },
   "outputs": [
    {
     "name": "stdout",
     "output_type": "stream",
     "text": [
      "Train R2-score : 0.86\n",
      "Test R2-score : 0.84\n",
      "Train CV scores : [0.83711655 0.88293283 0.83840209 0.83857036 0.88146949]\n",
      "Train CV mean : 0.86\n"
     ]
    },
    {
     "data": {
      "image/png": "[encoded data removed]",
      "text/plain": [
       "<Figure size 720x288 with 2 Axes>"
      ]
     },
     "metadata": {},
     "output_type": "display_data"
    }
   ],
   "source": [
    "car_pred_model(ls_rs,\"lasso.pkl\")"
   ]
  },
  {
   "cell_type": "code",
   "execution_count": 58,
   "metadata": {
    "scrolled": true
   },
   "outputs": [
    {
     "data": {
      "text/html": [
       "<div>\n",
       "<style scoped>\n",
       "    .dataframe tbody tr th:only-of-type {\n",
       "        vertical-align: middle;\n",
       "    }\n",
       "\n",
       "    .dataframe tbody tr th {\n",
       "        vertical-align: top;\n",
       "    }\n",
       "\n",
       "    .dataframe thead th {\n",
       "        text-align: right;\n",
       "    }\n",
       "</style>\n",
       "<table border=\"1\" class=\"dataframe\">\n",
       "  <thead>\n",
       "    <tr style=\"text-align: right;\">\n",
       "      <th></th>\n",
       "      <th>Model</th>\n",
       "      <th>R Squared(Train)</th>\n",
       "      <th>R Squared(Test)</th>\n",
       "      <th>CV score mean(Train)</th>\n",
       "    </tr>\n",
       "  </thead>\n",
       "  <tbody>\n",
       "    <tr>\n",
       "      <th>0</th>\n",
       "      <td>LinearRegression</td>\n",
       "      <td>0.86</td>\n",
       "      <td>0.84</td>\n",
       "      <td>0.86</td>\n",
       "    </tr>\n",
       "    <tr>\n",
       "      <th>1</th>\n",
       "      <td>Ridge</td>\n",
       "      <td>0.86</td>\n",
       "      <td>0.84</td>\n",
       "      <td>0.86</td>\n",
       "    </tr>\n",
       "    <tr>\n",
       "      <th>2</th>\n",
       "      <td>Lasso</td>\n",
       "      <td>0.86</td>\n",
       "      <td>0.84</td>\n",
       "      <td>0.86</td>\n",
       "    </tr>\n",
       "  </tbody>\n",
       "</table>\n",
       "</div>"
      ],
      "text/plain": [
       "              Model  R Squared(Train)  R Squared(Test)  CV score mean(Train)\n",
       "0  LinearRegression              0.86             0.84                  0.86\n",
       "1             Ridge              0.86             0.84                  0.86\n",
       "2             Lasso              0.86             0.84                  0.86"
      ]
     },
     "metadata": {},
     "output_type": "display_data"
    }
   ],
   "source": [
    "Technique = [\"LinearRegression\",\"Ridge\",\"Lasso\"]\n",
    "results=pd.DataFrame({'Model': Technique,'R Squared(Train)': R2_train,'R Squared(Test)': R2_test,'CV score mean(Train)': CV})\n",
    "display(results)\n"
   ]
  },
  {
   "cell_type": "code",
   "execution_count": 59,
   "metadata": {},
   "outputs": [
    {
     "data": {
      "text/plain": [
       "LinearRegression()"
      ]
     },
     "execution_count": 59,
     "metadata": {},
     "output_type": "execute_result"
    }
   ],
   "source": [
    "lr.fit(X_train,y_train)"
   ]
  },
  {
   "cell_type": "code",
   "execution_count": 60,
   "metadata": {},
   "outputs": [],
   "source": [
    "predictions = lr.predict(X_test)"
   ]
  },
  {
   "cell_type": "code",
   "execution_count": 61,
   "metadata": {},
   "outputs": [
    {
     "data": {
      "text/plain": [
       "array([20611.24754132, 25040.77589501, 25944.02426259, 22204.13965695,\n",
       "       26803.04446038, 28680.77760594, 18744.38044784, 26316.10285368,\n",
       "       20938.58089725, 24757.79000962, 20266.82576973, 25058.91058583,\n",
       "       15779.02554773, 21829.58612887, 14748.54608628, 21102.90802809,\n",
       "       28352.11284092,  9455.33875098, 26994.0605644 , 20291.76335027,\n",
       "       19601.33417928, 23311.14094235, 24166.19078812, 20884.92357634,\n",
       "       26220.38017136, 18034.87819759,  8263.49357576, 26022.65709085,\n",
       "       24818.33161655, 24486.67671636, 26275.13060141, 25969.46622699,\n",
       "       26064.25526483, 25949.96149225, 26744.39256031, 20327.36924385,\n",
       "       18230.25821509, 20829.30748623, 24188.60355372, 15287.54014281,\n",
       "       20357.41889602, 30076.50938122, 10390.76712663, 24057.20495899,\n",
       "       27270.87061861, 11851.94732902, 17594.01190875, 27480.2436674 ,\n",
       "       30234.69083736, 17782.22810788, 23531.14624457, 26171.20569478,\n",
       "       29139.51947332, 16418.6969503 , 21667.66524258, 13527.31912101,\n",
       "       19974.14788654, 25685.99710818, 17989.60849661, 22335.68495355,\n",
       "       29366.70751668, 16575.50799262, 17278.42336584, 20313.73098958,\n",
       "       25894.74460515, 22202.61014837, 28122.49957132, 25166.44714349,\n",
       "       19089.2751073 , 13098.43168307, 29620.55437673, 24757.78814242,\n",
       "       20276.24297914, 23601.62692916, 26697.72131943, 29094.99025086,\n",
       "       25322.32971412, 16282.78461497, 24922.28024882, 27070.07043683,\n",
       "       29416.689297  , 24578.2796883 , 20643.59938459, 18712.67164078,\n",
       "       13827.46631766, 30755.89665136, 29460.43279498, 27773.14417444,\n",
       "       24888.7086765 , 15048.99007353, 20323.89256968, 16235.66519071,\n",
       "       14530.87447114, 30763.4090644 , 26757.63887184, 22231.28127826,\n",
       "       26638.85857944, 20133.51800457, 22326.97726746, 25164.18732162,\n",
       "       20086.11555282, 18293.9352796 , 25714.81019599, 23719.8868506 ,\n",
       "       24945.32980937, 23804.15585584, 26192.9013694 , 23482.66078998,\n",
       "       15498.09247755, 30451.58147197, 26583.39935644, 24066.12427428,\n",
       "       28778.86119612, 11485.15445304, 28147.55314703, 19646.27071321,\n",
       "       18527.64817762, 21381.56949246, 23370.21362467, 25551.13531007,\n",
       "       25344.30678828, 23704.29855397, 18850.6720217 , 29525.49998536,\n",
       "       24179.90098149, 24168.88557106, 25600.60609538, 25855.60735656,\n",
       "       27692.29606227, 20973.27249795, 24535.08661888, 18636.71941664])"
      ]
     },
     "execution_count": 61,
     "metadata": {},
     "output_type": "execute_result"
    }
   ],
   "source": [
    "predictions"
   ]
  },
  {
   "cell_type": "code",
   "execution_count": 62,
   "metadata": {},
   "outputs": [
    {
     "data": {
      "text/plain": [
       "<AxesSubplot:xlabel='Price', ylabel='Count'>"
      ]
     },
     "execution_count": 62,
     "metadata": {},
     "output_type": "execute_result"
    },
    {
     "data": {
      "image/png": "[encoded data removed]",
      "text/plain": [
       "<Figure size 432x288 with 1 Axes>"
      ]
     },
     "metadata": {},
     "output_type": "display_data"
    }
   ],
   "source": [
    "sns.histplot(y_test-predictions)"
   ]
  },
  {
   "cell_type": "code",
   "execution_count": 63,
   "metadata": {},
   "outputs": [
    {
     "data": {
      "text/plain": [
       "<matplotlib.collections.PathCollection at 0x7fa9e5c6c160>"
      ]
     },
     "execution_count": 63,
     "metadata": {},
     "output_type": "execute_result"
    },
    {
     "data": {
      "image/png": "[encoded data removed]",
      "text/plain": [
       "<Figure size 432x288 with 1 Axes>"
      ]
     },
     "metadata": {},
     "output_type": "display_data"
    }
   ],
   "source": [
    "plt.scatter(y_test,predictions)"
   ]
  },
  {
   "cell_type": "code",
   "execution_count": 66,
   "metadata": {},
   "outputs": [],
   "source": [
    "import pickle\n",
    "#opening a file, where I want to store the data\n",
    "file = open('linear_regression_model1.pkl','wb')\n",
    "\n",
    "#dumping information to that file\n",
    "pickle.dump(lr,file)"
   ]
  },
  {
   "cell_type": "code",
   "execution_count": 68,
   "metadata": {},
   "outputs": [],
   "source": [
    "pickle.dump(lr,open('lr_model.pkl','wb'))"
   ]
  }
 ],
 "metadata": {
  "kernelspec": {
   "display_name": "Python 3",
   "language": "python",
   "name": "python3"
  },
  "language_info": {
   "codemirror_mode": {
    "name": "ipython",
    "version": 3
   },
   "file_extension": ".py",
   "mimetype": "text/x-python",
   "name": "python",
   "nbconvert_exporter": "python",
   "pygments_lexer": "ipython3",
   "version": "3.8.5"
  }
 },
 "nbformat": 4,
 "nbformat_minor": 4
}
